{
 "cells": [
  {
   "cell_type": "markdown",
   "id": "640ba1d5",
   "metadata": {},
   "source": [
    "# Bar Plot\n",
    "\n",
    "![VueCore logo][vuecore_logo]\n",
    "\n",
    "[![Open In Colab][colab_badge]][colab_link]\n",
    "\n",
    "[VueCore][vuecore_repo] is a Python package for creating interactive and static visualizations of multi-omics data.\n",
    "It is part of a broader ecosystem of tools—including [ACore][acore_repo] for data processing and [VueGen][vuegen_repo] for automated reporting—that together enable end-to-end workflows for omics analysis.\n",
    "\n",
    "This notebook demonstrates how to generate bar plots using plotting functions from VueCore. We showcase basic and advanced plot configurations, highlighting key customization options such as grouping, color mapping, text annotations, and export to multiple file formats.\n",
    "\n",
    "## Notebook structure\n",
    "\n",
    "First, we will set up the work environment by installing the necessary packages and importing the required libraries. Next, we will create basic and advanced bar plots.\n",
    "\n",
    "0. [Work environment setup](#0-work-environment-setup)\n",
    "1. [Basic bar plot](#1-basic-bar-plot)\n",
    "2. [Advanced bar plot](#2-advanced-bar-plot)\n",
    "\n",
    "## Credits and Contributors\n",
    "- This notebook was created by Sebastián Ayala-Ruano under the supervision of Henry Webel and Alberto Santos, head of the [Multiomics Network Analytics Group (MoNA)][Mona] at the [Novo Nordisk Foundation Center for Biosustainability (DTU Biosustain)][Biosustain].\n",
    "- You can find more details about the project in this [GitHub repository][vuecore_repo].\n",
    "\n",
    "[colab_badge]: https://colab.research.google.com/assets/colab-badge.svg\n",
    "[colab_link]: https://colab.research.google.com/github/Multiomics-Analytics-Group/vuecore/blob/main/docs/api_examples/bar_plot.ipynb\n",
    "[vuecore_logo]: https://raw.githubusercontent.com/Multiomics-Analytics-Group/vuecore/main/docs/images/logo/vuecore_logo.svg\n",
    "[Mona]: https://multiomics-analytics-group.github.io/\n",
    "[Biosustain]: https://www.biosustain.dtu.dk/\n",
    "[vuecore_repo]: https://github.com/Multiomics-Analytics-Group/vuecore\n",
    "[vuegen_repo]: https://github.com/Multiomics-Analytics-Group/vuegen\n",
    "[acore_repo]: https://github.com/Multiomics-Analytics-Group/acore"
   ]
  },
  {
   "cell_type": "markdown",
   "id": "3b504dfb",
   "metadata": {},
   "source": [
    "## 0. Work environment setup"
   ]
  },
  {
   "cell_type": "markdown",
   "id": "f0c056a7",
   "metadata": {},
   "source": [
    "### 0.1. Installing libraries and creating global variables for platform and working directory\n",
    "\n",
    "To run this notebook locally, you should create a virtual environment with the required libraries. If you are running this notebook on Google Colab, everything should be set."
   ]
  },
  {
   "cell_type": "code",
   "execution_count": null,
   "id": "36246ed6",
   "metadata": {
    "tags": [
     "hide-output"
    ]
   },
   "outputs": [],
   "source": [
    "# VueCore library\n",
    "%pip install vuecore"
   ]
  },
  {
   "cell_type": "code",
   "execution_count": 1,
   "id": "963a9529",
   "metadata": {
    "tags": [
     "hide-cell"
    ]
   },
   "outputs": [],
   "source": [
    "import os\n",
    "\n",
    "IN_COLAB = \"COLAB_GPU\" in os.environ"
   ]
  },
  {
   "cell_type": "code",
   "execution_count": 2,
   "id": "ee2ffd40",
   "metadata": {
    "tags": [
     "hide-cell"
    ]
   },
   "outputs": [],
   "source": [
    "# Create a directory for outputs\n",
    "output_dir = \"./outputs\"\n",
    "os.makedirs(output_dir, exist_ok=True)"
   ]
  },
  {
   "cell_type": "markdown",
   "id": "31638f9a",
   "metadata": {},
   "source": [
    "### 0.2. Importing libraries"
   ]
  },
  {
   "cell_type": "code",
   "execution_count": null,
   "id": "06dbf6a2",
   "metadata": {},
   "outputs": [],
   "source": [
    "# Imports\n",
    "import pandas as pd\n",
    "import numpy as np\n",
    "from pathlib import Path\n",
    "import plotly.io as pio\n",
    "\n",
    "from vuecore.plots.basic.bar import create_bar_plot\n",
    "\n",
    "# Set the Plotly renderer based on the environment\n",
    "pio.renderers.default = \"notebook\""
   ]
  },
  {
   "cell_type": "markdown",
   "id": "5cc60050",
   "metadata": {},
   "source": [
    "### 0.3. Create sample data\n",
    "We create a synthetic dataset representing the relative abundances of common bacterial genera across various environmental samples."
   ]
  },
  {
   "cell_type": "code",
   "execution_count": null,
   "id": "ac2db647",
   "metadata": {},
   "outputs": [
    {
     "data": {
      "text/html": [
       "<div>\n",
       "<style scoped>\n",
       "    .dataframe tbody tr th:only-of-type {\n",
       "        vertical-align: middle;\n",
       "    }\n",
       "\n",
       "    .dataframe tbody tr th {\n",
       "        vertical-align: top;\n",
       "    }\n",
       "\n",
       "    .dataframe thead th {\n",
       "        text-align: right;\n",
       "    }\n",
       "</style>\n",
       "<table border=\"1\" class=\"dataframe\">\n",
       "  <thead>\n",
       "    <tr style=\"text-align: right;\">\n",
       "      <th></th>\n",
       "      <th>Sample</th>\n",
       "      <th>Genus</th>\n",
       "      <th>Relative_Abundance</th>\n",
       "      <th>Genera_Count</th>\n",
       "    </tr>\n",
       "  </thead>\n",
       "  <tbody>\n",
       "    <tr>\n",
       "      <th>0</th>\n",
       "      <td>Soil</td>\n",
       "      <td>Klebsiella</td>\n",
       "      <td>4.142384</td>\n",
       "      <td>11</td>\n",
       "    </tr>\n",
       "    <tr>\n",
       "      <th>1</th>\n",
       "      <td>Soil</td>\n",
       "      <td>Shigella</td>\n",
       "      <td>12.807301</td>\n",
       "      <td>11</td>\n",
       "    </tr>\n",
       "    <tr>\n",
       "      <th>2</th>\n",
       "      <td>Soil</td>\n",
       "      <td>Pseudomonas</td>\n",
       "      <td>2.667787</td>\n",
       "      <td>11</td>\n",
       "    </tr>\n",
       "    <tr>\n",
       "      <th>3</th>\n",
       "      <td>Soil</td>\n",
       "      <td>Vibrio</td>\n",
       "      <td>14.020172</td>\n",
       "      <td>11</td>\n",
       "    </tr>\n",
       "    <tr>\n",
       "      <th>4</th>\n",
       "      <td>Soil</td>\n",
       "      <td>Bacteroides</td>\n",
       "      <td>17.713758</td>\n",
       "      <td>11</td>\n",
       "    </tr>\n",
       "  </tbody>\n",
       "</table>\n",
       "</div>"
      ],
      "text/plain": [
       "  Sample        Genus  Relative_Abundance  Genera_Count\n",
       "0   Soil   Klebsiella            4.142384            11\n",
       "1   Soil     Shigella           12.807301            11\n",
       "2   Soil  Pseudomonas            2.667787            11\n",
       "3   Soil       Vibrio           14.020172            11\n",
       "4   Soil  Bacteroides           17.713758            11"
      ]
     },
     "execution_count": 10,
     "metadata": {},
     "output_type": "execute_result"
    }
   ],
   "source": [
    "# Set a random seed for reproducibility of the synthetic data\n",
    "np.random.seed(42)\n",
    "\n",
    "# Sample types and bacterial genera\n",
    "sample_types = [\"Soil\", \"Freshwater\", \"Ocean\", \"Sediment\", \"Wastewater\"]\n",
    "genera = [\n",
    "    \"Pseudomonas\", \"Bacillus\", \"Escherichia\", \"Streptococcus\",\n",
    "    \"Lactobacillus\", \"Bacteroides\", \"Clostridium\", \"Staphylococcus\",\n",
    "    \"Enterobacter\", \"Klebsiella\", \"Salmonella\", \"Shigella\", \"Vibrio\"\n",
    "]\n",
    "\n",
    "def make_sample(sample: str, genera: list[str]) -> list[dict]:\n",
    "    \"\"\"\n",
    "    Generate synthetic microbial abundance data for a single sample.\n",
    "\n",
    "    Parameters\n",
    "    ----------\n",
    "    sample : str\n",
    "        The sample type (e.g., 'Soil', 'Ocean', etc).\n",
    "    genera : list[str]\n",
    "        List of all possible bacterial genera.\n",
    "\n",
    "    Returns\n",
    "    -------\n",
    "    list[dict]\n",
    "        A list of dictionaries, each containing: Sample name, Genus,\n",
    "        Relative abundance, and Genera count.\n",
    "    \"\"\"\n",
    "    # Randomly pick a subset of genera present in this sample\n",
    "    selected = np.random.choice(genera, np.random.randint(5, len(genera) + 1), replace=False)\n",
    "    \n",
    "    # Generate random raw abundances (shifted by +0.1 to avoid zeros)\n",
    "    raw = np.random.rand(len(selected)) + 0.1\n",
    "    \n",
    "    # Normalize abundances so they sum to exactly 100%\n",
    "    abundances = (raw / raw.sum()) * 100\n",
    "    \n",
    "    # Count how many genera are present\n",
    "    genera_count = len(selected)\n",
    "    \n",
    "    # Store results into list of dicts\n",
    "    return [\n",
    "        {\"Sample\": sample,\n",
    "         \"Genus\": genus,\n",
    "         \"Relative_Abundance\": abund,\n",
    "         \"Genera_Count\": genera_count}\n",
    "        for genus, abund in zip(selected, abundances)\n",
    "    ]\n",
    "\n",
    "# Generate full dataset by combining all samples\n",
    "abund_df = pd.DataFrame(\n",
    "    [row for sample in sample_types for row in make_sample(sample, genera)]\n",
    ")\n",
    "abund_df.head()"
   ]
  },
  {
   "cell_type": "markdown",
   "id": "ade445fe",
   "metadata": {},
   "source": [
    "## 1. Basic Bar Plot\n",
    "A basic bar plot can be created by simply providing the `x` and `y` columns from the DataFrame, along with style options like `title`."
   ]
  },
  {
   "cell_type": "code",
   "execution_count": null,
   "id": "d0d34455",
   "metadata": {},
   "outputs": [
    {
     "name": "stdout",
     "output_type": "stream",
     "text": [
      "[VueCore] Plot saved to ./outputs/bar_plot_basic.png\n"
     ]
    },
    {
     "data": {
      "text/html": [
       "<div>            <script src=\"https://cdnjs.cloudflare.com/ajax/libs/mathjax/2.7.5/MathJax.js?config=TeX-AMS-MML_SVG\"></script><script type=\"text/javascript\">if (window.MathJax && window.MathJax.Hub && window.MathJax.Hub.Config) {window.MathJax.Hub.Config({SVG: {font: \"STIX-Web\"}});}</script>                    <div id=\"e20af270-d5fb-4158-9e47-49dd905a44bb\" class=\"plotly-graph-div\" style=\"height:600px; width:800px;\"></div>            <script type=\"text/javascript\">                window.PLOTLYENV=window.PLOTLYENV || {};                                if (document.getElementById(\"e20af270-d5fb-4158-9e47-49dd905a44bb\")) {                    Plotly.newPlot(                        \"e20af270-d5fb-4158-9e47-49dd905a44bb\",                        [{\"hovertemplate\":\"Sample=%{x}\\u003cbr\\u003eGenera_Count=%{y}\\u003cextra\\u003e\\u003c\\u002fextra\\u003e\",\"legendgroup\":\"\",\"marker\":{\"color\":\"#636efa\",\"pattern\":{\"shape\":\"\"}},\"name\":\"\",\"orientation\":\"v\",\"showlegend\":false,\"textposition\":\"auto\",\"x\":[\"Soil\",\"Freshwater\",\"Ocean\",\"Sediment\",\"Wastewater\"],\"xaxis\":\"x\",\"y\":{\"dtype\":\"i1\",\"bdata\":\"CwcMCQU=\"},\"yaxis\":\"y\",\"type\":\"bar\",\"opacity\":0.8}],                        {\"template\":{\"data\":{\"barpolar\":[{\"marker\":{\"line\":{\"color\":\"white\",\"width\":0.5},\"pattern\":{\"fillmode\":\"overlay\",\"size\":10,\"solidity\":0.2}},\"type\":\"barpolar\"}],\"bar\":[{\"error_x\":{\"color\":\"#2a3f5f\"},\"error_y\":{\"color\":\"#2a3f5f\"},\"marker\":{\"line\":{\"color\":\"white\",\"width\":0.5},\"pattern\":{\"fillmode\":\"overlay\",\"size\":10,\"solidity\":0.2}},\"type\":\"bar\"}],\"carpet\":[{\"aaxis\":{\"endlinecolor\":\"#2a3f5f\",\"gridcolor\":\"#C8D4E3\",\"linecolor\":\"#C8D4E3\",\"minorgridcolor\":\"#C8D4E3\",\"startlinecolor\":\"#2a3f5f\"},\"baxis\":{\"endlinecolor\":\"#2a3f5f\",\"gridcolor\":\"#C8D4E3\",\"linecolor\":\"#C8D4E3\",\"minorgridcolor\":\"#C8D4E3\",\"startlinecolor\":\"#2a3f5f\"},\"type\":\"carpet\"}],\"choropleth\":[{\"colorbar\":{\"outlinewidth\":0,\"ticks\":\"\"},\"type\":\"choropleth\"}],\"contourcarpet\":[{\"colorbar\":{\"outlinewidth\":0,\"ticks\":\"\"},\"type\":\"contourcarpet\"}],\"contour\":[{\"colorbar\":{\"outlinewidth\":0,\"ticks\":\"\"},\"colorscale\":[[0.0,\"#0d0887\"],[0.1111111111111111,\"#46039f\"],[0.2222222222222222,\"#7201a8\"],[0.3333333333333333,\"#9c179e\"],[0.4444444444444444,\"#bd3786\"],[0.5555555555555556,\"#d8576b\"],[0.6666666666666666,\"#ed7953\"],[0.7777777777777778,\"#fb9f3a\"],[0.8888888888888888,\"#fdca26\"],[1.0,\"#f0f921\"]],\"type\":\"contour\"}],\"heatmap\":[{\"colorbar\":{\"outlinewidth\":0,\"ticks\":\"\"},\"colorscale\":[[0.0,\"#0d0887\"],[0.1111111111111111,\"#46039f\"],[0.2222222222222222,\"#7201a8\"],[0.3333333333333333,\"#9c179e\"],[0.4444444444444444,\"#bd3786\"],[0.5555555555555556,\"#d8576b\"],[0.6666666666666666,\"#ed7953\"],[0.7777777777777778,\"#fb9f3a\"],[0.8888888888888888,\"#fdca26\"],[1.0,\"#f0f921\"]],\"type\":\"heatmap\"}],\"histogram2dcontour\":[{\"colorbar\":{\"outlinewidth\":0,\"ticks\":\"\"},\"colorscale\":[[0.0,\"#0d0887\"],[0.1111111111111111,\"#46039f\"],[0.2222222222222222,\"#7201a8\"],[0.3333333333333333,\"#9c179e\"],[0.4444444444444444,\"#bd3786\"],[0.5555555555555556,\"#d8576b\"],[0.6666666666666666,\"#ed7953\"],[0.7777777777777778,\"#fb9f3a\"],[0.8888888888888888,\"#fdca26\"],[1.0,\"#f0f921\"]],\"type\":\"histogram2dcontour\"}],\"histogram2d\":[{\"colorbar\":{\"outlinewidth\":0,\"ticks\":\"\"},\"colorscale\":[[0.0,\"#0d0887\"],[0.1111111111111111,\"#46039f\"],[0.2222222222222222,\"#7201a8\"],[0.3333333333333333,\"#9c179e\"],[0.4444444444444444,\"#bd3786\"],[0.5555555555555556,\"#d8576b\"],[0.6666666666666666,\"#ed7953\"],[0.7777777777777778,\"#fb9f3a\"],[0.8888888888888888,\"#fdca26\"],[1.0,\"#f0f921\"]],\"type\":\"histogram2d\"}],\"histogram\":[{\"marker\":{\"pattern\":{\"fillmode\":\"overlay\",\"size\":10,\"solidity\":0.2}},\"type\":\"histogram\"}],\"mesh3d\":[{\"colorbar\":{\"outlinewidth\":0,\"ticks\":\"\"},\"type\":\"mesh3d\"}],\"parcoords\":[{\"line\":{\"colorbar\":{\"outlinewidth\":0,\"ticks\":\"\"}},\"type\":\"parcoords\"}],\"pie\":[{\"automargin\":true,\"type\":\"pie\"}],\"scatter3d\":[{\"line\":{\"colorbar\":{\"outlinewidth\":0,\"ticks\":\"\"}},\"marker\":{\"colorbar\":{\"outlinewidth\":0,\"ticks\":\"\"}},\"type\":\"scatter3d\"}],\"scattercarpet\":[{\"marker\":{\"colorbar\":{\"outlinewidth\":0,\"ticks\":\"\"}},\"type\":\"scattercarpet\"}],\"scattergeo\":[{\"marker\":{\"colorbar\":{\"outlinewidth\":0,\"ticks\":\"\"}},\"type\":\"scattergeo\"}],\"scattergl\":[{\"marker\":{\"colorbar\":{\"outlinewidth\":0,\"ticks\":\"\"}},\"type\":\"scattergl\"}],\"scattermapbox\":[{\"marker\":{\"colorbar\":{\"outlinewidth\":0,\"ticks\":\"\"}},\"type\":\"scattermapbox\"}],\"scattermap\":[{\"marker\":{\"colorbar\":{\"outlinewidth\":0,\"ticks\":\"\"}},\"type\":\"scattermap\"}],\"scatterpolargl\":[{\"marker\":{\"colorbar\":{\"outlinewidth\":0,\"ticks\":\"\"}},\"type\":\"scatterpolargl\"}],\"scatterpolar\":[{\"marker\":{\"colorbar\":{\"outlinewidth\":0,\"ticks\":\"\"}},\"type\":\"scatterpolar\"}],\"scatter\":[{\"fillpattern\":{\"fillmode\":\"overlay\",\"size\":10,\"solidity\":0.2},\"type\":\"scatter\"}],\"scatterternary\":[{\"marker\":{\"colorbar\":{\"outlinewidth\":0,\"ticks\":\"\"}},\"type\":\"scatterternary\"}],\"surface\":[{\"colorbar\":{\"outlinewidth\":0,\"ticks\":\"\"},\"colorscale\":[[0.0,\"#0d0887\"],[0.1111111111111111,\"#46039f\"],[0.2222222222222222,\"#7201a8\"],[0.3333333333333333,\"#9c179e\"],[0.4444444444444444,\"#bd3786\"],[0.5555555555555556,\"#d8576b\"],[0.6666666666666666,\"#ed7953\"],[0.7777777777777778,\"#fb9f3a\"],[0.8888888888888888,\"#fdca26\"],[1.0,\"#f0f921\"]],\"type\":\"surface\"}],\"table\":[{\"cells\":{\"fill\":{\"color\":\"#EBF0F8\"},\"line\":{\"color\":\"white\"}},\"header\":{\"fill\":{\"color\":\"#C8D4E3\"},\"line\":{\"color\":\"white\"}},\"type\":\"table\"}]},\"layout\":{\"annotationdefaults\":{\"arrowcolor\":\"#2a3f5f\",\"arrowhead\":0,\"arrowwidth\":1},\"autotypenumbers\":\"strict\",\"coloraxis\":{\"colorbar\":{\"outlinewidth\":0,\"ticks\":\"\"}},\"colorscale\":{\"diverging\":[[0,\"#8e0152\"],[0.1,\"#c51b7d\"],[0.2,\"#de77ae\"],[0.3,\"#f1b6da\"],[0.4,\"#fde0ef\"],[0.5,\"#f7f7f7\"],[0.6,\"#e6f5d0\"],[0.7,\"#b8e186\"],[0.8,\"#7fbc41\"],[0.9,\"#4d9221\"],[1,\"#276419\"]],\"sequential\":[[0.0,\"#0d0887\"],[0.1111111111111111,\"#46039f\"],[0.2222222222222222,\"#7201a8\"],[0.3333333333333333,\"#9c179e\"],[0.4444444444444444,\"#bd3786\"],[0.5555555555555556,\"#d8576b\"],[0.6666666666666666,\"#ed7953\"],[0.7777777777777778,\"#fb9f3a\"],[0.8888888888888888,\"#fdca26\"],[1.0,\"#f0f921\"]],\"sequentialminus\":[[0.0,\"#0d0887\"],[0.1111111111111111,\"#46039f\"],[0.2222222222222222,\"#7201a8\"],[0.3333333333333333,\"#9c179e\"],[0.4444444444444444,\"#bd3786\"],[0.5555555555555556,\"#d8576b\"],[0.6666666666666666,\"#ed7953\"],[0.7777777777777778,\"#fb9f3a\"],[0.8888888888888888,\"#fdca26\"],[1.0,\"#f0f921\"]]},\"colorway\":[\"#636efa\",\"#EF553B\",\"#00cc96\",\"#ab63fa\",\"#FFA15A\",\"#19d3f3\",\"#FF6692\",\"#B6E880\",\"#FF97FF\",\"#FECB52\"],\"font\":{\"color\":\"#2a3f5f\"},\"geo\":{\"bgcolor\":\"white\",\"lakecolor\":\"white\",\"landcolor\":\"white\",\"showlakes\":true,\"showland\":true,\"subunitcolor\":\"#C8D4E3\"},\"hoverlabel\":{\"align\":\"left\"},\"hovermode\":\"closest\",\"mapbox\":{\"style\":\"light\"},\"paper_bgcolor\":\"white\",\"plot_bgcolor\":\"white\",\"polar\":{\"angularaxis\":{\"gridcolor\":\"#EBF0F8\",\"linecolor\":\"#EBF0F8\",\"ticks\":\"\"},\"bgcolor\":\"white\",\"radialaxis\":{\"gridcolor\":\"#EBF0F8\",\"linecolor\":\"#EBF0F8\",\"ticks\":\"\"}},\"scene\":{\"xaxis\":{\"backgroundcolor\":\"white\",\"gridcolor\":\"#DFE8F3\",\"gridwidth\":2,\"linecolor\":\"#EBF0F8\",\"showbackground\":true,\"ticks\":\"\",\"zerolinecolor\":\"#EBF0F8\"},\"yaxis\":{\"backgroundcolor\":\"white\",\"gridcolor\":\"#DFE8F3\",\"gridwidth\":2,\"linecolor\":\"#EBF0F8\",\"showbackground\":true,\"ticks\":\"\",\"zerolinecolor\":\"#EBF0F8\"},\"zaxis\":{\"backgroundcolor\":\"white\",\"gridcolor\":\"#DFE8F3\",\"gridwidth\":2,\"linecolor\":\"#EBF0F8\",\"showbackground\":true,\"ticks\":\"\",\"zerolinecolor\":\"#EBF0F8\"}},\"shapedefaults\":{\"line\":{\"color\":\"#2a3f5f\"}},\"ternary\":{\"aaxis\":{\"gridcolor\":\"#DFE8F3\",\"linecolor\":\"#A2B1C6\",\"ticks\":\"\"},\"baxis\":{\"gridcolor\":\"#DFE8F3\",\"linecolor\":\"#A2B1C6\",\"ticks\":\"\"},\"bgcolor\":\"white\",\"caxis\":{\"gridcolor\":\"#DFE8F3\",\"linecolor\":\"#A2B1C6\",\"ticks\":\"\"}},\"title\":{\"x\":0.05},\"xaxis\":{\"automargin\":true,\"gridcolor\":\"#EBF0F8\",\"linecolor\":\"#EBF0F8\",\"ticks\":\"\",\"title\":{\"standoff\":15},\"zerolinecolor\":\"#EBF0F8\",\"zerolinewidth\":2},\"yaxis\":{\"automargin\":true,\"gridcolor\":\"#EBF0F8\",\"linecolor\":\"#EBF0F8\",\"ticks\":\"\",\"title\":{\"standoff\":15},\"zerolinecolor\":\"#EBF0F8\",\"zerolinewidth\":2}}},\"xaxis\":{\"anchor\":\"y\",\"domain\":[0.0,1.0],\"title\":{\"text\":\"Sample\"}},\"yaxis\":{\"anchor\":\"x\",\"domain\":[0.0,1.0],\"title\":{\"text\":\"Genera_Count\"}},\"legend\":{\"tracegroupgap\":0},\"margin\":{\"t\":60},\"barmode\":\"relative\",\"title\":{\"text\":\"Genera Count by Sample Type\"},\"height\":600,\"width\":800},                        {\"responsive\": true}                    ).then(function(){\n",
       "                            \n",
       "var gd = document.getElementById('e20af270-d5fb-4158-9e47-49dd905a44bb');\n",
       "var x = new MutationObserver(function (mutations, observer) {{\n",
       "        var display = window.getComputedStyle(gd).display;\n",
       "        if (!display || display === 'none') {{\n",
       "            console.log([gd, 'removed!']);\n",
       "            Plotly.purge(gd);\n",
       "            observer.disconnect();\n",
       "        }}\n",
       "}});\n",
       "\n",
       "// Listen for the removal of the full notebook cells\n",
       "var notebookContainer = gd.closest('#notebook-container');\n",
       "if (notebookContainer) {{\n",
       "    x.observe(notebookContainer, {childList: true});\n",
       "}}\n",
       "\n",
       "// Listen for the clearing of the current output cell\n",
       "var outputEl = gd.closest('.output');\n",
       "if (outputEl) {{\n",
       "    x.observe(outputEl, {childList: true});\n",
       "}}\n",
       "\n",
       "                        })                };            </script>        </div>"
      ]
     },
     "metadata": {},
     "output_type": "display_data"
    }
   ],
   "source": [
    "# Create a df with unique samples and their genera counts\n",
    "bar_plot_basic_df = abund_df.drop_duplicates(subset=\"Sample\")[[\"Sample\", \"Genera_Count\"]]\n",
    "\n",
    "# Define output path\n",
    "file_path_basic_png = Path(output_dir) / \"bar_plot_basic.png\"\n",
    "\n",
    "# Generate the basic bar plot\n",
    "bar_plot_basic = create_bar_plot(\n",
    "    data=bar_plot_basic_df,\n",
    "    x=\"Sample\",\n",
    "    y=\"Genera_Count\",\n",
    "    title=\"Genera Count by Sample Type\",\n",
    "    file_path=file_path_basic_png,  \n",
    ")\n",
    "\n",
    "bar_plot_basic.show()"
   ]
  },
  {
   "cell_type": "markdown",
   "id": "f5e16637",
   "metadata": {},
   "source": [
    "## 2. Advanced Bar Plot\n",
    "Here is an example of an advanced `stacked bar plot` with more descriptive parameters, including `color grouping`, `text annotations`, `hover tooltips`, and export to `HTML`."
   ]
  },
  {
   "cell_type": "code",
   "execution_count": null,
   "id": "358e45fe",
   "metadata": {},
   "outputs": [
    {
     "name": "stdout",
     "output_type": "stream",
     "text": [
      "[VueCore] Plot saved to ./outputs/bar_plot_advanced.html\n"
     ]
    },
    {
     "data": {
      "text/html": [
       "<div>            <script src=\"https://cdnjs.cloudflare.com/ajax/libs/mathjax/2.7.5/MathJax.js?config=TeX-AMS-MML_SVG\"></script><script type=\"text/javascript\">if (window.MathJax && window.MathJax.Hub && window.MathJax.Hub.Config) {window.MathJax.Hub.Config({SVG: {font: \"STIX-Web\"}});}</script>                    <div id=\"d7e11411-e0bb-4b9f-92d5-96b54ea55631\" class=\"plotly-graph-div\" style=\"height:600px; width:800px;\"></div>            <script type=\"text/javascript\">                window.PLOTLYENV=window.PLOTLYENV || {};                                if (document.getElementById(\"d7e11411-e0bb-4b9f-92d5-96b54ea55631\")) {                    Plotly.newPlot(                        \"d7e11411-e0bb-4b9f-92d5-96b54ea55631\",                        [{\"hovertemplate\":\"\\u003cb\\u003e%{hovertext}\\u003c\\u002fb\\u003e\\u003cbr\\u003e\\u003cbr\\u003eGenus=Klebsiella\\u003cbr\\u003eEnvironmental Sample Type=%{x}\\u003cbr\\u003eRelative Abundance (%)=%{y}\\u003cextra\\u003e\\u003c\\u002fextra\\u003e\",\"hovertext\":[\"Klebsiella\",\"Klebsiella\",\"Klebsiella\",\"Klebsiella\"],\"legendgroup\":\"Klebsiella\",\"marker\":{\"color\":\"#636efa\",\"pattern\":{\"shape\":\"\"}},\"name\":\"Klebsiella\",\"orientation\":\"v\",\"showlegend\":true,\"textposition\":\"auto\",\"x\":[\"Soil\",\"Freshwater\",\"Ocean\",\"Wastewater\"],\"xaxis\":\"x\",\"y\":{\"dtype\":\"f8\",\"bdata\":\"NN1IHc2REEA4ncu28dE0QGPTW3wezgNAPBsZ\\u002ftk\\u002fN0A=\"},\"yaxis\":\"y\",\"type\":\"bar\",\"opacity\":0.9},{\"hovertemplate\":\"\\u003cb\\u003e%{hovertext}\\u003c\\u002fb\\u003e\\u003cbr\\u003e\\u003cbr\\u003eGenus=Shigella\\u003cbr\\u003eEnvironmental Sample Type=%{x}\\u003cbr\\u003eRelative Abundance (%)=%{y}\\u003cextra\\u003e\\u003c\\u002fextra\\u003e\",\"hovertext\":[\"Shigella\",\"Shigella\",\"Shigella\",\"Shigella\"],\"legendgroup\":\"Shigella\",\"marker\":{\"color\":\"#EF553B\",\"pattern\":{\"shape\":\"\"}},\"name\":\"Shigella\",\"orientation\":\"v\",\"showlegend\":true,\"textposition\":\"auto\",\"x\":[\"Soil\",\"Ocean\",\"Sediment\",\"Wastewater\"],\"xaxis\":\"x\",\"y\":{\"dtype\":\"f8\",\"bdata\":\"vr+qiVadKUAszDHY4vwmQIHXe5+xJitAoNHAzA8mJEA=\"},\"yaxis\":\"y\",\"type\":\"bar\",\"opacity\":0.9},{\"hovertemplate\":\"\\u003cb\\u003e%{hovertext}\\u003c\\u002fb\\u003e\\u003cbr\\u003e\\u003cbr\\u003eGenus=Pseudomonas\\u003cbr\\u003eEnvironmental Sample Type=%{x}\\u003cbr\\u003eRelative Abundance (%)=%{y}\\u003cextra\\u003e\\u003c\\u002fextra\\u003e\",\"hovertext\":[\"Pseudomonas\",\"Pseudomonas\",\"Pseudomonas\",\"Pseudomonas\",\"Pseudomonas\"],\"legendgroup\":\"Pseudomonas\",\"marker\":{\"color\":\"#00cc96\",\"pattern\":{\"shape\":\"\"}},\"name\":\"Pseudomonas\",\"orientation\":\"v\",\"showlegend\":true,\"textposition\":\"auto\",\"x\":[\"Soil\",\"Freshwater\",\"Ocean\",\"Sediment\",\"Wastewater\"],\"xaxis\":\"x\",\"y\":{\"dtype\":\"f8\",\"bdata\":\"fQ8tdqBXBUCl80OMU5chQE0JQvdRghNAYjs1mc5nH0B69NNgIQMjQA==\"},\"yaxis\":\"y\",\"type\":\"bar\",\"opacity\":0.9},{\"hovertemplate\":\"\\u003cb\\u003e%{hovertext}\\u003c\\u002fb\\u003e\\u003cbr\\u003e\\u003cbr\\u003eGenus=Vibrio\\u003cbr\\u003eEnvironmental Sample Type=%{x}\\u003cbr\\u003eRelative Abundance (%)=%{y}\\u003cextra\\u003e\\u003c\\u002fextra\\u003e\",\"hovertext\":[\"Vibrio\",\"Vibrio\",\"Vibrio\",\"Vibrio\"],\"legendgroup\":\"Vibrio\",\"marker\":{\"color\":\"#ab63fa\",\"pattern\":{\"shape\":\"\"}},\"name\":\"Vibrio\",\"orientation\":\"v\",\"showlegend\":true,\"textposition\":\"auto\",\"x\":[\"Soil\",\"Freshwater\",\"Ocean\",\"Sediment\"],\"xaxis\":\"x\",\"y\":{\"dtype\":\"f8\",\"bdata\":\"ukCb\\u002fVMKLEA0f6IqAqkIQBNzsVV9GCxAideb+wt3JUA=\"},\"yaxis\":\"y\",\"type\":\"bar\",\"opacity\":0.9},{\"hovertemplate\":\"\\u003cb\\u003e%{hovertext}\\u003c\\u002fb\\u003e\\u003cbr\\u003e\\u003cbr\\u003eGenus=Bacteroides\\u003cbr\\u003eEnvironmental Sample Type=%{x}\\u003cbr\\u003eRelative Abundance (%)=%{y}\\u003cextra\\u003e\\u003c\\u002fextra\\u003e\",\"hovertext\":[\"Bacteroides\",\"Bacteroides\",\"Bacteroides\",\"Bacteroides\"],\"legendgroup\":\"Bacteroides\",\"marker\":{\"color\":\"#FFA15A\",\"pattern\":{\"shape\":\"\"}},\"name\":\"Bacteroides\",\"orientation\":\"v\",\"showlegend\":true,\"textposition\":\"auto\",\"x\":[\"Soil\",\"Freshwater\",\"Ocean\",\"Sediment\"],\"xaxis\":\"x\",\"y\":{\"dtype\":\"f8\",\"bdata\":\"g5ju3ri2MUC2BTv09rM7QDTorHSo1ypA8MVTVKVULUA=\"},\"yaxis\":\"y\",\"type\":\"bar\",\"opacity\":0.9},{\"hovertemplate\":\"\\u003cb\\u003e%{hovertext}\\u003c\\u002fb\\u003e\\u003cbr\\u003e\\u003cbr\\u003eGenus=Enterobacter\\u003cbr\\u003eEnvironmental Sample Type=%{x}\\u003cbr\\u003eRelative Abundance (%)=%{y}\\u003cextra\\u003e\\u003c\\u002fextra\\u003e\",\"hovertext\":[\"Enterobacter\",\"Enterobacter\"],\"legendgroup\":\"Enterobacter\",\"marker\":{\"color\":\"#19d3f3\",\"pattern\":{\"shape\":\"\"}},\"name\":\"Enterobacter\",\"orientation\":\"v\",\"showlegend\":true,\"textposition\":\"auto\",\"x\":[\"Soil\",\"Ocean\"],\"xaxis\":\"x\",\"y\":{\"dtype\":\"f8\",\"bdata\":\"S1bhxJ+A+z9spgaQxyEqQA==\"},\"yaxis\":\"y\",\"type\":\"bar\",\"opacity\":0.9},{\"hovertemplate\":\"\\u003cb\\u003e%{hovertext}\\u003c\\u002fb\\u003e\\u003cbr\\u003e\\u003cbr\\u003eGenus=Escherichia\\u003cbr\\u003eEnvironmental Sample Type=%{x}\\u003cbr\\u003eRelative Abundance (%)=%{y}\\u003cextra\\u003e\\u003c\\u002fextra\\u003e\",\"hovertext\":[\"Escherichia\",\"Escherichia\"],\"legendgroup\":\"Escherichia\",\"marker\":{\"color\":\"#FF6692\",\"pattern\":{\"shape\":\"\"}},\"name\":\"Escherichia\",\"orientation\":\"v\",\"showlegend\":true,\"textposition\":\"auto\",\"x\":[\"Soil\",\"Sediment\"],\"xaxis\":\"x\",\"y\":{\"dtype\":\"f8\",\"bdata\":\"N08XdQShMkBnYXL3uHApQA==\"},\"yaxis\":\"y\",\"type\":\"bar\",\"opacity\":0.9},{\"hovertemplate\":\"\\u003cb\\u003e%{hovertext}\\u003c\\u002fb\\u003e\\u003cbr\\u003e\\u003cbr\\u003eGenus=Bacillus\\u003cbr\\u003eEnvironmental Sample Type=%{x}\\u003cbr\\u003eRelative Abundance (%)=%{y}\\u003cextra\\u003e\\u003c\\u002fextra\\u003e\",\"hovertext\":[\"Bacillus\",\"Bacillus\",\"Bacillus\",\"Bacillus\",\"Bacillus\"],\"legendgroup\":\"Bacillus\",\"marker\":{\"color\":\"#B6E880\",\"pattern\":{\"shape\":\"\"}},\"name\":\"Bacillus\",\"orientation\":\"v\",\"showlegend\":true,\"textposition\":\"auto\",\"x\":[\"Soil\",\"Freshwater\",\"Ocean\",\"Sediment\",\"Wastewater\"],\"xaxis\":\"x\",\"y\":{\"dtype\":\"f8\",\"bdata\":\"FmxKRpp5KEAphSW1UM4pQHsVZk5SWBZAfHH0kMsUEUCqDqW2flI+QA==\"},\"yaxis\":\"y\",\"type\":\"bar\",\"opacity\":0.9},{\"hovertemplate\":\"\\u003cb\\u003e%{hovertext}\\u003c\\u002fb\\u003e\\u003cbr\\u003e\\u003cbr\\u003eGenus=Clostridium\\u003cbr\\u003eEnvironmental Sample Type=%{x}\\u003cbr\\u003eRelative Abundance (%)=%{y}\\u003cextra\\u003e\\u003c\\u002fextra\\u003e\",\"hovertext\":[\"Clostridium\",\"Clostridium\",\"Clostridium\"],\"legendgroup\":\"Clostridium\",\"marker\":{\"color\":\"#FF97FF\",\"pattern\":{\"shape\":\"\"}},\"name\":\"Clostridium\",\"orientation\":\"v\",\"showlegend\":true,\"textposition\":\"auto\",\"x\":[\"Soil\",\"Ocean\",\"Sediment\"],\"xaxis\":\"x\",\"y\":{\"dtype\":\"f8\",\"bdata\":\"pGMterRGKEBcMz6XElUiQPGP\\u002f8mrAS1A\"},\"yaxis\":\"y\",\"type\":\"bar\",\"opacity\":0.9},{\"hovertemplate\":\"\\u003cb\\u003e%{hovertext}\\u003c\\u002fb\\u003e\\u003cbr\\u003e\\u003cbr\\u003eGenus=Lactobacillus\\u003cbr\\u003eEnvironmental Sample Type=%{x}\\u003cbr\\u003eRelative Abundance (%)=%{y}\\u003cextra\\u003e\\u003c\\u002fextra\\u003e\",\"hovertext\":[\"Lactobacillus\",\"Lactobacillus\",\"Lactobacillus\"],\"legendgroup\":\"Lactobacillus\",\"marker\":{\"color\":\"#FECB52\",\"pattern\":{\"shape\":\"\"}},\"name\":\"Lactobacillus\",\"orientation\":\"v\",\"showlegend\":true,\"textposition\":\"auto\",\"x\":[\"Soil\",\"Ocean\",\"Sediment\"],\"xaxis\":\"x\",\"y\":{\"dtype\":\"f8\",\"bdata\":\"cp6nouI3\\u002fT9N2i8uLU4rQJoiPVz1LydA\"},\"yaxis\":\"y\",\"type\":\"bar\",\"opacity\":0.9},{\"hovertemplate\":\"\\u003cb\\u003e%{hovertext}\\u003c\\u002fb\\u003e\\u003cbr\\u003e\\u003cbr\\u003eGenus=Staphylococcus\\u003cbr\\u003eEnvironmental Sample Type=%{x}\\u003cbr\\u003eRelative Abundance (%)=%{y}\\u003cextra\\u003e\\u003c\\u002fextra\\u003e\",\"hovertext\":[\"Staphylococcus\",\"Staphylococcus\",\"Staphylococcus\"],\"legendgroup\":\"Staphylococcus\",\"marker\":{\"color\":\"#636efa\",\"pattern\":{\"shape\":\"\"}},\"name\":\"Staphylococcus\",\"orientation\":\"v\",\"showlegend\":true,\"textposition\":\"auto\",\"x\":[\"Soil\",\"Freshwater\",\"Ocean\"],\"xaxis\":\"x\",\"y\":{\"dtype\":\"f8\",\"bdata\":\"Ij1WXLTKAEC4NLm3NiEiQM8Rwoi4hP4\\u002f\"},\"yaxis\":\"y\",\"type\":\"bar\",\"opacity\":0.9},{\"hovertemplate\":\"\\u003cb\\u003e%{hovertext}\\u003c\\u002fb\\u003e\\u003cbr\\u003e\\u003cbr\\u003eGenus=Salmonella\\u003cbr\\u003eEnvironmental Sample Type=%{x}\\u003cbr\\u003eRelative Abundance (%)=%{y}\\u003cextra\\u003e\\u003c\\u002fextra\\u003e\",\"hovertext\":[\"Salmonella\",\"Salmonella\",\"Salmonella\"],\"legendgroup\":\"Salmonella\",\"marker\":{\"color\":\"#EF553B\",\"pattern\":{\"shape\":\"\"}},\"name\":\"Salmonella\",\"orientation\":\"v\",\"showlegend\":true,\"textposition\":\"auto\",\"x\":[\"Freshwater\",\"Ocean\",\"Wastewater\"],\"xaxis\":\"x\",\"y\":{\"dtype\":\"f8\",\"bdata\":\"bLYTk4mhMUAQIJoKbBkPQApzd7QO2TpA\"},\"yaxis\":\"y\",\"type\":\"bar\",\"opacity\":0.9},{\"hovertemplate\":\"\\u003cb\\u003e%{hovertext}\\u003c\\u002fb\\u003e\\u003cbr\\u003e\\u003cbr\\u003eGenus=Streptococcus\\u003cbr\\u003eEnvironmental Sample Type=%{x}\\u003cbr\\u003eRelative Abundance (%)=%{y}\\u003cextra\\u003e\\u003c\\u002fextra\\u003e\",\"hovertext\":[\"Streptococcus\",\"Streptococcus\"],\"legendgroup\":\"Streptococcus\",\"marker\":{\"color\":\"#00cc96\",\"pattern\":{\"shape\":\"\"}},\"name\":\"Streptococcus\",\"orientation\":\"v\",\"showlegend\":true,\"textposition\":\"auto\",\"x\":[\"Ocean\",\"Sediment\"],\"xaxis\":\"x\",\"y\":{\"dtype\":\"f8\",\"bdata\":\"+quiZEisGUCloNDd9SwkQA==\"},\"yaxis\":\"y\",\"type\":\"bar\",\"opacity\":0.9}],                        {\"template\":{\"data\":{\"barpolar\":[{\"marker\":{\"line\":{\"color\":\"white\",\"width\":0.5},\"pattern\":{\"fillmode\":\"overlay\",\"size\":10,\"solidity\":0.2}},\"type\":\"barpolar\"}],\"bar\":[{\"error_x\":{\"color\":\"#2a3f5f\"},\"error_y\":{\"color\":\"#2a3f5f\"},\"marker\":{\"line\":{\"color\":\"white\",\"width\":0.5},\"pattern\":{\"fillmode\":\"overlay\",\"size\":10,\"solidity\":0.2}},\"type\":\"bar\"}],\"carpet\":[{\"aaxis\":{\"endlinecolor\":\"#2a3f5f\",\"gridcolor\":\"#C8D4E3\",\"linecolor\":\"#C8D4E3\",\"minorgridcolor\":\"#C8D4E3\",\"startlinecolor\":\"#2a3f5f\"},\"baxis\":{\"endlinecolor\":\"#2a3f5f\",\"gridcolor\":\"#C8D4E3\",\"linecolor\":\"#C8D4E3\",\"minorgridcolor\":\"#C8D4E3\",\"startlinecolor\":\"#2a3f5f\"},\"type\":\"carpet\"}],\"choropleth\":[{\"colorbar\":{\"outlinewidth\":0,\"ticks\":\"\"},\"type\":\"choropleth\"}],\"contourcarpet\":[{\"colorbar\":{\"outlinewidth\":0,\"ticks\":\"\"},\"type\":\"contourcarpet\"}],\"contour\":[{\"colorbar\":{\"outlinewidth\":0,\"ticks\":\"\"},\"colorscale\":[[0.0,\"#0d0887\"],[0.1111111111111111,\"#46039f\"],[0.2222222222222222,\"#7201a8\"],[0.3333333333333333,\"#9c179e\"],[0.4444444444444444,\"#bd3786\"],[0.5555555555555556,\"#d8576b\"],[0.6666666666666666,\"#ed7953\"],[0.7777777777777778,\"#fb9f3a\"],[0.8888888888888888,\"#fdca26\"],[1.0,\"#f0f921\"]],\"type\":\"contour\"}],\"heatmap\":[{\"colorbar\":{\"outlinewidth\":0,\"ticks\":\"\"},\"colorscale\":[[0.0,\"#0d0887\"],[0.1111111111111111,\"#46039f\"],[0.2222222222222222,\"#7201a8\"],[0.3333333333333333,\"#9c179e\"],[0.4444444444444444,\"#bd3786\"],[0.5555555555555556,\"#d8576b\"],[0.6666666666666666,\"#ed7953\"],[0.7777777777777778,\"#fb9f3a\"],[0.8888888888888888,\"#fdca26\"],[1.0,\"#f0f921\"]],\"type\":\"heatmap\"}],\"histogram2dcontour\":[{\"colorbar\":{\"outlinewidth\":0,\"ticks\":\"\"},\"colorscale\":[[0.0,\"#0d0887\"],[0.1111111111111111,\"#46039f\"],[0.2222222222222222,\"#7201a8\"],[0.3333333333333333,\"#9c179e\"],[0.4444444444444444,\"#bd3786\"],[0.5555555555555556,\"#d8576b\"],[0.6666666666666666,\"#ed7953\"],[0.7777777777777778,\"#fb9f3a\"],[0.8888888888888888,\"#fdca26\"],[1.0,\"#f0f921\"]],\"type\":\"histogram2dcontour\"}],\"histogram2d\":[{\"colorbar\":{\"outlinewidth\":0,\"ticks\":\"\"},\"colorscale\":[[0.0,\"#0d0887\"],[0.1111111111111111,\"#46039f\"],[0.2222222222222222,\"#7201a8\"],[0.3333333333333333,\"#9c179e\"],[0.4444444444444444,\"#bd3786\"],[0.5555555555555556,\"#d8576b\"],[0.6666666666666666,\"#ed7953\"],[0.7777777777777778,\"#fb9f3a\"],[0.8888888888888888,\"#fdca26\"],[1.0,\"#f0f921\"]],\"type\":\"histogram2d\"}],\"histogram\":[{\"marker\":{\"pattern\":{\"fillmode\":\"overlay\",\"size\":10,\"solidity\":0.2}},\"type\":\"histogram\"}],\"mesh3d\":[{\"colorbar\":{\"outlinewidth\":0,\"ticks\":\"\"},\"type\":\"mesh3d\"}],\"parcoords\":[{\"line\":{\"colorbar\":{\"outlinewidth\":0,\"ticks\":\"\"}},\"type\":\"parcoords\"}],\"pie\":[{\"automargin\":true,\"type\":\"pie\"}],\"scatter3d\":[{\"line\":{\"colorbar\":{\"outlinewidth\":0,\"ticks\":\"\"}},\"marker\":{\"colorbar\":{\"outlinewidth\":0,\"ticks\":\"\"}},\"type\":\"scatter3d\"}],\"scattercarpet\":[{\"marker\":{\"colorbar\":{\"outlinewidth\":0,\"ticks\":\"\"}},\"type\":\"scattercarpet\"}],\"scattergeo\":[{\"marker\":{\"colorbar\":{\"outlinewidth\":0,\"ticks\":\"\"}},\"type\":\"scattergeo\"}],\"scattergl\":[{\"marker\":{\"colorbar\":{\"outlinewidth\":0,\"ticks\":\"\"}},\"type\":\"scattergl\"}],\"scattermapbox\":[{\"marker\":{\"colorbar\":{\"outlinewidth\":0,\"ticks\":\"\"}},\"type\":\"scattermapbox\"}],\"scattermap\":[{\"marker\":{\"colorbar\":{\"outlinewidth\":0,\"ticks\":\"\"}},\"type\":\"scattermap\"}],\"scatterpolargl\":[{\"marker\":{\"colorbar\":{\"outlinewidth\":0,\"ticks\":\"\"}},\"type\":\"scatterpolargl\"}],\"scatterpolar\":[{\"marker\":{\"colorbar\":{\"outlinewidth\":0,\"ticks\":\"\"}},\"type\":\"scatterpolar\"}],\"scatter\":[{\"fillpattern\":{\"fillmode\":\"overlay\",\"size\":10,\"solidity\":0.2},\"type\":\"scatter\"}],\"scatterternary\":[{\"marker\":{\"colorbar\":{\"outlinewidth\":0,\"ticks\":\"\"}},\"type\":\"scatterternary\"}],\"surface\":[{\"colorbar\":{\"outlinewidth\":0,\"ticks\":\"\"},\"colorscale\":[[0.0,\"#0d0887\"],[0.1111111111111111,\"#46039f\"],[0.2222222222222222,\"#7201a8\"],[0.3333333333333333,\"#9c179e\"],[0.4444444444444444,\"#bd3786\"],[0.5555555555555556,\"#d8576b\"],[0.6666666666666666,\"#ed7953\"],[0.7777777777777778,\"#fb9f3a\"],[0.8888888888888888,\"#fdca26\"],[1.0,\"#f0f921\"]],\"type\":\"surface\"}],\"table\":[{\"cells\":{\"fill\":{\"color\":\"#EBF0F8\"},\"line\":{\"color\":\"white\"}},\"header\":{\"fill\":{\"color\":\"#C8D4E3\"},\"line\":{\"color\":\"white\"}},\"type\":\"table\"}]},\"layout\":{\"annotationdefaults\":{\"arrowcolor\":\"#2a3f5f\",\"arrowhead\":0,\"arrowwidth\":1},\"autotypenumbers\":\"strict\",\"coloraxis\":{\"colorbar\":{\"outlinewidth\":0,\"ticks\":\"\"}},\"colorscale\":{\"diverging\":[[0,\"#8e0152\"],[0.1,\"#c51b7d\"],[0.2,\"#de77ae\"],[0.3,\"#f1b6da\"],[0.4,\"#fde0ef\"],[0.5,\"#f7f7f7\"],[0.6,\"#e6f5d0\"],[0.7,\"#b8e186\"],[0.8,\"#7fbc41\"],[0.9,\"#4d9221\"],[1,\"#276419\"]],\"sequential\":[[0.0,\"#0d0887\"],[0.1111111111111111,\"#46039f\"],[0.2222222222222222,\"#7201a8\"],[0.3333333333333333,\"#9c179e\"],[0.4444444444444444,\"#bd3786\"],[0.5555555555555556,\"#d8576b\"],[0.6666666666666666,\"#ed7953\"],[0.7777777777777778,\"#fb9f3a\"],[0.8888888888888888,\"#fdca26\"],[1.0,\"#f0f921\"]],\"sequentialminus\":[[0.0,\"#0d0887\"],[0.1111111111111111,\"#46039f\"],[0.2222222222222222,\"#7201a8\"],[0.3333333333333333,\"#9c179e\"],[0.4444444444444444,\"#bd3786\"],[0.5555555555555556,\"#d8576b\"],[0.6666666666666666,\"#ed7953\"],[0.7777777777777778,\"#fb9f3a\"],[0.8888888888888888,\"#fdca26\"],[1.0,\"#f0f921\"]]},\"colorway\":[\"#636efa\",\"#EF553B\",\"#00cc96\",\"#ab63fa\",\"#FFA15A\",\"#19d3f3\",\"#FF6692\",\"#B6E880\",\"#FF97FF\",\"#FECB52\"],\"font\":{\"color\":\"#2a3f5f\"},\"geo\":{\"bgcolor\":\"white\",\"lakecolor\":\"white\",\"landcolor\":\"white\",\"showlakes\":true,\"showland\":true,\"subunitcolor\":\"#C8D4E3\"},\"hoverlabel\":{\"align\":\"left\"},\"hovermode\":\"closest\",\"mapbox\":{\"style\":\"light\"},\"paper_bgcolor\":\"white\",\"plot_bgcolor\":\"white\",\"polar\":{\"angularaxis\":{\"gridcolor\":\"#EBF0F8\",\"linecolor\":\"#EBF0F8\",\"ticks\":\"\"},\"bgcolor\":\"white\",\"radialaxis\":{\"gridcolor\":\"#EBF0F8\",\"linecolor\":\"#EBF0F8\",\"ticks\":\"\"}},\"scene\":{\"xaxis\":{\"backgroundcolor\":\"white\",\"gridcolor\":\"#DFE8F3\",\"gridwidth\":2,\"linecolor\":\"#EBF0F8\",\"showbackground\":true,\"ticks\":\"\",\"zerolinecolor\":\"#EBF0F8\"},\"yaxis\":{\"backgroundcolor\":\"white\",\"gridcolor\":\"#DFE8F3\",\"gridwidth\":2,\"linecolor\":\"#EBF0F8\",\"showbackground\":true,\"ticks\":\"\",\"zerolinecolor\":\"#EBF0F8\"},\"zaxis\":{\"backgroundcolor\":\"white\",\"gridcolor\":\"#DFE8F3\",\"gridwidth\":2,\"linecolor\":\"#EBF0F8\",\"showbackground\":true,\"ticks\":\"\",\"zerolinecolor\":\"#EBF0F8\"}},\"shapedefaults\":{\"line\":{\"color\":\"#2a3f5f\"}},\"ternary\":{\"aaxis\":{\"gridcolor\":\"#DFE8F3\",\"linecolor\":\"#A2B1C6\",\"ticks\":\"\"},\"baxis\":{\"gridcolor\":\"#DFE8F3\",\"linecolor\":\"#A2B1C6\",\"ticks\":\"\"},\"bgcolor\":\"white\",\"caxis\":{\"gridcolor\":\"#DFE8F3\",\"linecolor\":\"#A2B1C6\",\"ticks\":\"\"}},\"title\":{\"x\":0.05},\"xaxis\":{\"automargin\":true,\"gridcolor\":\"#EBF0F8\",\"linecolor\":\"#EBF0F8\",\"ticks\":\"\",\"title\":{\"standoff\":15},\"zerolinecolor\":\"#EBF0F8\",\"zerolinewidth\":2},\"yaxis\":{\"automargin\":true,\"gridcolor\":\"#EBF0F8\",\"linecolor\":\"#EBF0F8\",\"ticks\":\"\",\"title\":{\"standoff\":15},\"zerolinecolor\":\"#EBF0F8\",\"zerolinewidth\":2}}},\"xaxis\":{\"anchor\":\"y\",\"domain\":[0.0,1.0],\"title\":{\"text\":\"Environmental Sample Type\"}},\"yaxis\":{\"anchor\":\"x\",\"domain\":[0.0,1.0],\"title\":{\"text\":\"Relative Abundance (%)\"}},\"legend\":{\"title\":{\"text\":\"Genus\"},\"tracegroupgap\":0},\"margin\":{\"t\":60},\"barmode\":\"stack\",\"title\":{\"subtitle\":{\"text\":\"Relative Abundance of Bacterial Genera\"},\"text\":\"Taxonomic Profile of Environmental Samples\"},\"height\":600,\"width\":800},                        {\"responsive\": true}                    ).then(function(){\n",
       "                            \n",
       "var gd = document.getElementById('d7e11411-e0bb-4b9f-92d5-96b54ea55631');\n",
       "var x = new MutationObserver(function (mutations, observer) {{\n",
       "        var display = window.getComputedStyle(gd).display;\n",
       "        if (!display || display === 'none') {{\n",
       "            console.log([gd, 'removed!']);\n",
       "            Plotly.purge(gd);\n",
       "            observer.disconnect();\n",
       "        }}\n",
       "}});\n",
       "\n",
       "// Listen for the removal of the full notebook cells\n",
       "var notebookContainer = gd.closest('#notebook-container');\n",
       "if (notebookContainer) {{\n",
       "    x.observe(notebookContainer, {childList: true});\n",
       "}}\n",
       "\n",
       "// Listen for the clearing of the current output cell\n",
       "var outputEl = gd.closest('.output');\n",
       "if (outputEl) {{\n",
       "    x.observe(outputEl, {childList: true});\n",
       "}}\n",
       "\n",
       "                        })                };            </script>        </div>"
      ]
     },
     "metadata": {},
     "output_type": "display_data"
    }
   ],
   "source": [
    "# Define the output file path for the HTML plot\n",
    "file_path_adv_html = Path(output_dir) / \"bar_plot_advanced.html\"\n",
    "\n",
    "# Generate the advanced stacked bar plot\n",
    "bar_plot_adv = create_bar_plot(\n",
    "    data=abund_df,                \n",
    "    x=\"Sample\",                   \n",
    "    y=\"Relative_Abundance\",            \n",
    "    color=\"Genus\",             \n",
    "    barmode=\"stack\",                   \n",
    "    title=\"Taxonomic Profile of Environmental Samples\",\n",
    "    subtitle=\"Relative Abundance of Bacterial Genera\",\n",
    "    labels={                           \n",
    "        \"Sample\": \"Environmental Sample Type\",\n",
    "        \"Relative_Abundance\": \"Relative Abundance (%)\",\n",
    "        \"Genus\": \"Genus\"\n",
    "    },\n",
    "    hover_name=\"Genus\",        \n",
    "    hover_data=[\"Relative_Abundance\"], \n",
    "    opacity=0.9,                       \n",
    "    file_path=file_path_adv_html,\n",
    ")\n",
    "\n",
    "bar_plot_adv.show()"
   ]
  }
 ],
 "metadata": {
  "kernelspec": {
   "display_name": "vuecore-dev",
   "language": "python",
   "name": "python3"
  },
  "language_info": {
   "codemirror_mode": {
    "name": "ipython",
    "version": 3
   },
   "file_extension": ".py",
   "mimetype": "text/x-python",
   "name": "python",
   "nbconvert_exporter": "python",
   "pygments_lexer": "ipython3",
   "version": "3.12.11"
  }
 },
 "nbformat": 4,
 "nbformat_minor": 5
}
