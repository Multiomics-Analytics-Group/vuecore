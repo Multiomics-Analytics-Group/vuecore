{
 "cells": [
  {
   "cell_type": "markdown",
   "id": "640ba1d5",
   "metadata": {},
   "source": [
    "# Box Plot\n",
    "\n",
    "![VueCore logo][vuecore_logo]\n",
    "\n",
    "[![Open In Colab][colab_badge]][colab_link]\n",
    "\n",
    "[VueCore][vuecore_repo] is a Python package for creating interactive and static visualizations of multi-omics data.\n",
    "It is part of a broader ecosystem of tools—including [ACore][acore_repo] for data processing and [VueGen][vuegen_repo] for automated reporting—that together enable end-to-end workflows for omics analysis.\n",
    "\n",
    "This notebook demonstrates how to generate box plots using plotting functions from VueCore. We showcase basic and advanced plot configurations, highlighting key customization options such as grouping, color mapping, text annotations, and export to multiple file formats.\n",
    "\n",
    "## Notebook structure\n",
    "\n",
    "First, we will set up the work environment by installing the necessary packages and importing the required libraries. Next, we will create basic and advanced box plots.\n",
    "\n",
    "0. [Work environment setup](#0-work-environment-setup)\n",
    "1. [Basic box plot](#1-basic-box-plot)\n",
    "2. [Advanced box plot](#2-advanced-box-plot)\n",
    "\n",
    "## Credits and Contributors\n",
    "- This notebook was created by Sebastián Ayala-Ruano under the supervision of Henry Webel and Alberto Santos, head of the [Multiomics Network Analytics Group (MoNA)][Mona] at the [Novo Nordisk Foundation Center for Biosustainability (DTU Biosustain)][Biosustain].\n",
    "- You can find more details about the project in this [GitHub repository][vuecore_repo].\n",
    "\n",
    "[colab_badge]: https://colab.research.google.com/assets/colab-badge.svg\n",
    "[colab_link]: https://colab.research.google.com/github/Multiomics-Analytics-Group/vuecore/blob/main/docs/api_examples/box_plot.ipynb\n",
    "[vuecore_logo]: https://raw.githubusercontent.com/Multiomics-Analytics-Group/vuecore/main/docs/images/logo/vuecore_logo.svg\n",
    "[Mona]: https://multiomics-analytics-group.github.io/\n",
    "[Biosustain]: https://www.biosustain.dtu.dk/\n",
    "[vuecore_repo]: https://github.com/Multiomics-Analytics-Group/vuecore\n",
    "[vuegen_repo]: https://github.com/Multiomics-Analytics-Group/vuegen\n",
    "[acore_repo]: https://github.com/Multiomics-Analytics-Group/acore"
   ]
  },
  {
   "cell_type": "markdown",
   "id": "3b504dfb",
   "metadata": {},
   "source": [
    "## 0. Work environment setup"
   ]
  },
  {
   "cell_type": "markdown",
   "id": "f0c056a7",
   "metadata": {},
   "source": [
    "### 0.1. Installing libraries and creating global variables for platform and working directory\n",
    "\n",
    "To run this notebook locally, you should create a virtual environment with the required libraries. If you are running this notebook on Google Colab, everything should be set."
   ]
  },
  {
   "cell_type": "code",
   "execution_count": null,
   "id": "36246ed6",
   "metadata": {
    "tags": [
     "hide-output"
    ]
   },
   "outputs": [],
   "source": [
    "# VueCore library\n",
    "%pip install vuecore"
   ]
  },
  {
   "cell_type": "code",
   "execution_count": 1,
   "id": "963a9529",
   "metadata": {
    "tags": [
     "hide-cell"
    ]
   },
   "outputs": [],
   "source": [
    "import os\n",
    "\n",
    "IN_COLAB = \"COLAB_GPU\" in os.environ"
   ]
  },
  {
   "cell_type": "code",
   "execution_count": 2,
   "id": "ee2ffd40",
   "metadata": {
    "tags": [
     "hide-cell"
    ]
   },
   "outputs": [],
   "source": [
    "# Create a directory for outputs\n",
    "output_dir = \"./outputs\"\n",
    "os.makedirs(output_dir, exist_ok=True)"
   ]
  },
  {
   "cell_type": "markdown",
   "id": "31638f9a",
   "metadata": {},
   "source": [
    "### 0.2. Importing libraries"
   ]
  },
  {
   "cell_type": "code",
   "execution_count": 3,
   "id": "06dbf6a2",
   "metadata": {},
   "outputs": [],
   "source": [
    "# Imports\n",
    "import pandas as pd\n",
    "import numpy as np\n",
    "from pathlib import Path\n",
    "\n",
    "from vuecore.plots.basic.box import create_box_plot"
   ]
  },
  {
   "cell_type": "markdown",
   "id": "5cc60050",
   "metadata": {},
   "source": [
    "### 0.3. Create sample data\n",
    "We create a synthetic dataset simulating gene expression levels across different patient samples and treatment conditions, with each data point representing a unique gene's expression level under a specific treatment for a particular patient."
   ]
  },
  {
   "cell_type": "code",
   "execution_count": 47,
   "id": "ac2db647",
   "metadata": {},
   "outputs": [],
   "source": [
    "# Set a random seed for reproducibility of the synthetic data\n",
    "np.random.seed(42)\n",
    "\n",
    "# Parameters\n",
    "num_samples = 200\n",
    "sample_groups = [\"Patient A\", \"Patient B\", \"Patient C\", \"Patient D\"]\n",
    "treatments = [\"Control\", \"Treated\"]\n",
    "\n",
    "# Sample metadata\n",
    "sample_ids = np.random.choice(sample_groups, size=num_samples)\n",
    "treatment_assignments = np.random.choice(treatments, size=num_samples)\n",
    "gene_ids = [f\"Gene_{g}\" for g in np.random.randint(1, 1500, size=num_samples)]\n",
    "\n",
    "# Base expression values\n",
    "base_expr = np.random.normal(loc=100, scale=35, size=num_samples)\n",
    "\n",
    "# Treatment effect simulation\n",
    "treatment_effect = np.where(\n",
    "    treatment_assignments == \"Treated\",\n",
    "    np.random.normal(loc=50, scale=30, size=num_samples),\n",
    "    0,\n",
    ")\n",
    "\n",
    "# Small random per-gene offset for extra variability\n",
    "gene_offset = np.random.normal(loc=0, scale=20, size=num_samples)\n",
    "\n",
    "# Final expression\n",
    "expr = base_expr + treatment_effect + gene_offset\n",
    "\n",
    "# Construct DataFrame\n",
    "gene_exp_df = pd.DataFrame(\n",
    "    {\n",
    "        \"Sample_ID\": sample_ids,\n",
    "        \"Treatment\": treatment_assignments,\n",
    "        \"Gene_ID\": gene_ids,\n",
    "        \"Expression\": expr,\n",
    "    }\n",
    ")"
   ]
  },
  {
   "cell_type": "markdown",
   "id": "ade445fe",
   "metadata": {},
   "source": [
    "## 1. Basic Box Plot\n",
    "A basic box plot can be created by simply providing the `x` and `y` columns from the DataFrame, along with style options like `title`."
   ]
  },
  {
   "cell_type": "code",
   "execution_count": 48,
   "id": "d0d34455",
   "metadata": {},
   "outputs": [
    {
     "name": "stdout",
     "output_type": "stream",
     "text": [
      "[VueCore] Plot saved to outputs/box_plot_basic.png\n"
     ]
    },
    {
     "data": {
      "text/html": [
       "<div>            <script src=\"https://cdnjs.cloudflare.com/ajax/libs/mathjax/2.7.5/MathJax.js?config=TeX-AMS-MML_SVG\"></script><script type=\"text/javascript\">if (window.MathJax && window.MathJax.Hub && window.MathJax.Hub.Config) {window.MathJax.Hub.Config({SVG: {font: \"STIX-Web\"}});}</script>                    <div id=\"ea1bfbae-599f-49f3-8463-d7cb9691a3cb\" class=\"plotly-graph-div\" style=\"height:600px; width:800px;\"></div>            <script type=\"text/javascript\">                window.PLOTLYENV=window.PLOTLYENV || {};                                if (document.getElementById(\"ea1bfbae-599f-49f3-8463-d7cb9691a3cb\")) {                    Plotly.newPlot(                        \"ea1bfbae-599f-49f3-8463-d7cb9691a3cb\",                        [{\"alignmentgroup\":\"True\",\"hovertemplate\":\"Treatment=%{x}\\u003cbr\\u003eExpression=%{y}\\u003cextra\\u003e\\u003c\\u002fextra\\u003e\",\"legendgroup\":\"\",\"marker\":{\"color\":\"#636efa\"},\"name\":\"\",\"notched\":false,\"offsetgroup\":\"\",\"orientation\":\"v\",\"showlegend\":false,\"x\":[\"Control\",\"Treated\",\"Control\",\"Control\",\"Treated\",\"Control\",\"Treated\",\"Treated\",\"Treated\",\"Control\",\"Control\",\"Control\",\"Control\",\"Control\",\"Control\",\"Control\",\"Treated\",\"Control\",\"Treated\",\"Control\",\"Control\",\"Control\",\"Treated\",\"Treated\",\"Treated\",\"Treated\",\"Control\",\"Treated\",\"Control\",\"Control\",\"Treated\",\"Treated\",\"Treated\",\"Treated\",\"Treated\",\"Treated\",\"Treated\",\"Treated\",\"Control\",\"Treated\",\"Treated\",\"Control\",\"Treated\",\"Control\",\"Control\",\"Treated\",\"Control\",\"Control\",\"Control\",\"Control\",\"Treated\",\"Control\",\"Treated\",\"Control\",\"Control\",\"Control\",\"Control\",\"Treated\",\"Treated\",\"Control\",\"Control\",\"Treated\",\"Control\",\"Control\",\"Control\",\"Treated\",\"Treated\",\"Treated\",\"Control\",\"Control\",\"Treated\",\"Treated\",\"Treated\",\"Treated\",\"Control\",\"Treated\",\"Control\",\"Treated\",\"Control\",\"Treated\",\"Treated\",\"Treated\",\"Treated\",\"Control\",\"Treated\",\"Control\",\"Control\",\"Control\",\"Control\",\"Treated\",\"Control\",\"Control\",\"Control\",\"Treated\",\"Treated\",\"Treated\",\"Treated\",\"Control\",\"Control\",\"Treated\",\"Control\",\"Control\",\"Control\",\"Treated\",\"Treated\",\"Control\",\"Treated\",\"Treated\",\"Treated\",\"Treated\",\"Treated\",\"Control\",\"Treated\",\"Control\",\"Control\",\"Treated\",\"Control\",\"Control\",\"Control\",\"Treated\",\"Treated\",\"Control\",\"Treated\",\"Treated\",\"Treated\",\"Treated\",\"Control\",\"Control\",\"Treated\",\"Treated\",\"Control\",\"Control\",\"Treated\",\"Control\",\"Treated\",\"Treated\",\"Control\",\"Control\",\"Treated\",\"Treated\",\"Control\",\"Treated\",\"Control\",\"Treated\",\"Control\",\"Control\",\"Control\",\"Treated\",\"Treated\",\"Control\",\"Treated\",\"Control\",\"Control\",\"Treated\",\"Treated\",\"Control\",\"Treated\",\"Treated\",\"Control\",\"Control\",\"Treated\",\"Control\",\"Control\",\"Treated\",\"Control\",\"Control\",\"Treated\",\"Treated\",\"Control\",\"Control\",\"Treated\",\"Treated\",\"Treated\",\"Treated\",\"Control\",\"Treated\",\"Treated\",\"Control\",\"Treated\",\"Control\",\"Treated\",\"Treated\",\"Treated\",\"Control\",\"Control\",\"Treated\",\"Control\",\"Control\",\"Control\",\"Control\",\"Control\",\"Control\",\"Treated\",\"Treated\",\"Control\",\"Treated\",\"Treated\",\"Treated\",\"Treated\",\"Control\"],\"x0\":\" \",\"xaxis\":\"x\",\"y\":{\"dtype\":\"f8\",\"bdata\":\"Lqd4l6DdXUAPWBZY\\u002fHZmQOJL20VB4ExAoNVMZvNFRUD9U9TrOAtjQIbsj9lFGVlALBxQlVvLUECFLwyjA9FAQPPt5e2oUWxAXh9eLdObY0BSaY8j4gpcQGo\\u002fDcfhlUxALxhX6dazV0CUZS4VOJlmQGZ0YoBZ+F5ApD2bsMwYXUCeN3vtHjRdQHGYdpbJrllA9qjCTYgeY0AO1H2CNXZWQP4xtFGKyEFA2xoC5sjGYUDvSg6uHtJcQO9m2h7VCWhALwZ69lOyZUB6Zhyx7uZlQAALH1frdGBAn1KmPxtgYkD9zYDDvupVQMlrWBKMFFxApw9OsR7ScUBWekYQJAFiQH43Qk4pd1lA\\u002fp5PpbPIZEDaQQAeDElhQB+C6QuXAmtA5HPRJcx2ZkBo9GUAv65cQJ9SuLWmEVpA6fvvIZy7ZUBN\\u002fAYAmChnQMzCCdBIcUdAOWbU93NhWUDg9j8S1sMrQF3b9w4XwURAtCATlqofZEDwtW1iK7llQOqjTHja\\u002f1RAVpyv543AU0AMLxByfAJhQMendtOdnF1AlUPVDeRAYkAIIOGrC15gQOQvDnLbNl9AnkCYfux2UEAFFD2O+XxgQI2FKQ779UxAHiwmzH\\u002fmXkCakhQHRg5xQFMIER1Q9GJAvBLQVD3lO0ChYl9ori9oQPhTJbOn0mVA7a3es7ZhVkAnPzdlgrlaQD6\\u002fnUi6L2NAbD7jglZYYEDj7KZNDuZUQHzbaq\\u002fFQkFA43T574WkXEBFxtHHiZ9VQJu2xsEswWlA\\u002f5Yjht0nW0BFaMaptiVrQC6pIFxSLUtApTnTHm41V0DLJuNVpExiQHIWmZF31GJALQn2ODf8YkDqNXXNxUFeQNL92r0uMmlADjS42i7VakBu8UuLTHRNQN4\\u002fUgsF0WNADYvJw5ydWEDmYzKYOl1RQN421s24AFNAFw11adFIVUDmmHhkt6xbQCDJlLkNhG5AUq8QGNaMW0DF4ABugP1aQHtKEVQSgEpAUkULfA5tYEC2k1WL5P1kQBiD5rINcGNAXBnsUqoyYUA\\u002fKs6+j5pfQJyinumWpF9AT4SirxSsZUC0xDRArLxjQBT6qLrXmWBAw8JFqPXPSEBaq7O\\u002fNVBxQNlp78a4KmJAoGmurDjhY0DCU4YInN5oQKxghO81KGRA69YyWOgEUUDcRYkucclnQAdPXBbzYGRAtmRsfUx0UkAZ5Xia1HppQFaLETfxpkhAaFAv8qExBEBwfWvLYERlQLKzDUy9C2FARPh4MKYUYUBLTvcW2dxgQHejsGABLWdAwK9\\u002fKeGLakA6Ve6Qt3BXQMVEDdvz4mRAoPzTWw4KZECsCxRtd2ddQAfrbjxNt2BAa2Vh+0jFVkCdxB8aLqJeQHiZF84I92hAYYDrW4PQZUD9DIHREWw2QLLnrhhs3D1A\\u002fe\\u002fXInV5ZUBV2j3Uc7tdQL\\u002fMw\\u002fKSc2RAvz61Eju1YkAUGhadDIVfQCsOKPdZqV5Amd7b1HRcaEBQUxrCqU5fQOgTW1cEJFNAItXsiRRwZECFbXZ9yLpfQKXyWEvJW2FA5BtEEuZaVkAFny5EFulXQEXt3vEYtlJA3PxOgrQvXUAiMLGJeL9hQHWRvwBbRWVA7BbXFGj7YUBKTMVXJBFfQMg\\u002fMOS181xAG2O6QxkQY0C9oApDm4dUQFFo9wTDm1BA3Pfyd8uGZ0DYaaD54AVkQNYXM21\\u002fYFRAA5KV5HrgUUDXSWY2LKRhQNsXuPLDKGFA3aIVSVZLY0BBNh0K0CFpQJvRVnrA5lJAr2HKiLt\\u002fOUD68GaTMD5aQKm\\u002f3OIzl2ZA+OyWM8YuYkAm+yG5fsdYQNAobYJApGRANy+tAfI4WkBcGDGlYHJfQKLHQTryxlVAgAsRz9\\u002fsXECZ+nZ10RBkQLnzshWp4mJA9D9f3HcDRUBXEepVNHVYQDE8Zqav0lRAkGDJce7MY0DiY7wFCEhiQHcCta6k72ZAoSRElqlHV0AwFgtqrpVkQHkssRSuyVdA5nnXnRvPV0CKCc47hEFaQJjT+L0jOUtA\\u002fRN1FdihVECkulOfAawtQP\\u002fq1iWSCVFAwgvSWrurYkC4S5gDjshLQF5RnRNF51NAj4R6kjNxZUDNhlaJvE5mQD11CegY82VARovey+1oZ0CHO\\u002fu\\u002f\\u002f3BOQA==\"},\"y0\":\" \",\"yaxis\":\"y\",\"type\":\"box\",\"boxpoints\":\"outliers\"}],                        {\"template\":{\"data\":{\"barpolar\":[{\"marker\":{\"line\":{\"color\":\"white\",\"width\":0.5},\"pattern\":{\"fillmode\":\"overlay\",\"size\":10,\"solidity\":0.2}},\"type\":\"barpolar\"}],\"bar\":[{\"error_x\":{\"color\":\"#2a3f5f\"},\"error_y\":{\"color\":\"#2a3f5f\"},\"marker\":{\"line\":{\"color\":\"white\",\"width\":0.5},\"pattern\":{\"fillmode\":\"overlay\",\"size\":10,\"solidity\":0.2}},\"type\":\"bar\"}],\"carpet\":[{\"aaxis\":{\"endlinecolor\":\"#2a3f5f\",\"gridcolor\":\"#C8D4E3\",\"linecolor\":\"#C8D4E3\",\"minorgridcolor\":\"#C8D4E3\",\"startlinecolor\":\"#2a3f5f\"},\"baxis\":{\"endlinecolor\":\"#2a3f5f\",\"gridcolor\":\"#C8D4E3\",\"linecolor\":\"#C8D4E3\",\"minorgridcolor\":\"#C8D4E3\",\"startlinecolor\":\"#2a3f5f\"},\"type\":\"carpet\"}],\"choropleth\":[{\"colorbar\":{\"outlinewidth\":0,\"ticks\":\"\"},\"type\":\"choropleth\"}],\"contourcarpet\":[{\"colorbar\":{\"outlinewidth\":0,\"ticks\":\"\"},\"type\":\"contourcarpet\"}],\"contour\":[{\"colorbar\":{\"outlinewidth\":0,\"ticks\":\"\"},\"colorscale\":[[0.0,\"#0d0887\"],[0.1111111111111111,\"#46039f\"],[0.2222222222222222,\"#7201a8\"],[0.3333333333333333,\"#9c179e\"],[0.4444444444444444,\"#bd3786\"],[0.5555555555555556,\"#d8576b\"],[0.6666666666666666,\"#ed7953\"],[0.7777777777777778,\"#fb9f3a\"],[0.8888888888888888,\"#fdca26\"],[1.0,\"#f0f921\"]],\"type\":\"contour\"}],\"heatmap\":[{\"colorbar\":{\"outlinewidth\":0,\"ticks\":\"\"},\"colorscale\":[[0.0,\"#0d0887\"],[0.1111111111111111,\"#46039f\"],[0.2222222222222222,\"#7201a8\"],[0.3333333333333333,\"#9c179e\"],[0.4444444444444444,\"#bd3786\"],[0.5555555555555556,\"#d8576b\"],[0.6666666666666666,\"#ed7953\"],[0.7777777777777778,\"#fb9f3a\"],[0.8888888888888888,\"#fdca26\"],[1.0,\"#f0f921\"]],\"type\":\"heatmap\"}],\"histogram2dcontour\":[{\"colorbar\":{\"outlinewidth\":0,\"ticks\":\"\"},\"colorscale\":[[0.0,\"#0d0887\"],[0.1111111111111111,\"#46039f\"],[0.2222222222222222,\"#7201a8\"],[0.3333333333333333,\"#9c179e\"],[0.4444444444444444,\"#bd3786\"],[0.5555555555555556,\"#d8576b\"],[0.6666666666666666,\"#ed7953\"],[0.7777777777777778,\"#fb9f3a\"],[0.8888888888888888,\"#fdca26\"],[1.0,\"#f0f921\"]],\"type\":\"histogram2dcontour\"}],\"histogram2d\":[{\"colorbar\":{\"outlinewidth\":0,\"ticks\":\"\"},\"colorscale\":[[0.0,\"#0d0887\"],[0.1111111111111111,\"#46039f\"],[0.2222222222222222,\"#7201a8\"],[0.3333333333333333,\"#9c179e\"],[0.4444444444444444,\"#bd3786\"],[0.5555555555555556,\"#d8576b\"],[0.6666666666666666,\"#ed7953\"],[0.7777777777777778,\"#fb9f3a\"],[0.8888888888888888,\"#fdca26\"],[1.0,\"#f0f921\"]],\"type\":\"histogram2d\"}],\"histogram\":[{\"marker\":{\"pattern\":{\"fillmode\":\"overlay\",\"size\":10,\"solidity\":0.2}},\"type\":\"histogram\"}],\"mesh3d\":[{\"colorbar\":{\"outlinewidth\":0,\"ticks\":\"\"},\"type\":\"mesh3d\"}],\"parcoords\":[{\"line\":{\"colorbar\":{\"outlinewidth\":0,\"ticks\":\"\"}},\"type\":\"parcoords\"}],\"pie\":[{\"automargin\":true,\"type\":\"pie\"}],\"scatter3d\":[{\"line\":{\"colorbar\":{\"outlinewidth\":0,\"ticks\":\"\"}},\"marker\":{\"colorbar\":{\"outlinewidth\":0,\"ticks\":\"\"}},\"type\":\"scatter3d\"}],\"scattercarpet\":[{\"marker\":{\"colorbar\":{\"outlinewidth\":0,\"ticks\":\"\"}},\"type\":\"scattercarpet\"}],\"scattergeo\":[{\"marker\":{\"colorbar\":{\"outlinewidth\":0,\"ticks\":\"\"}},\"type\":\"scattergeo\"}],\"scattergl\":[{\"marker\":{\"colorbar\":{\"outlinewidth\":0,\"ticks\":\"\"}},\"type\":\"scattergl\"}],\"scattermapbox\":[{\"marker\":{\"colorbar\":{\"outlinewidth\":0,\"ticks\":\"\"}},\"type\":\"scattermapbox\"}],\"scattermap\":[{\"marker\":{\"colorbar\":{\"outlinewidth\":0,\"ticks\":\"\"}},\"type\":\"scattermap\"}],\"scatterpolargl\":[{\"marker\":{\"colorbar\":{\"outlinewidth\":0,\"ticks\":\"\"}},\"type\":\"scatterpolargl\"}],\"scatterpolar\":[{\"marker\":{\"colorbar\":{\"outlinewidth\":0,\"ticks\":\"\"}},\"type\":\"scatterpolar\"}],\"scatter\":[{\"fillpattern\":{\"fillmode\":\"overlay\",\"size\":10,\"solidity\":0.2},\"type\":\"scatter\"}],\"scatterternary\":[{\"marker\":{\"colorbar\":{\"outlinewidth\":0,\"ticks\":\"\"}},\"type\":\"scatterternary\"}],\"surface\":[{\"colorbar\":{\"outlinewidth\":0,\"ticks\":\"\"},\"colorscale\":[[0.0,\"#0d0887\"],[0.1111111111111111,\"#46039f\"],[0.2222222222222222,\"#7201a8\"],[0.3333333333333333,\"#9c179e\"],[0.4444444444444444,\"#bd3786\"],[0.5555555555555556,\"#d8576b\"],[0.6666666666666666,\"#ed7953\"],[0.7777777777777778,\"#fb9f3a\"],[0.8888888888888888,\"#fdca26\"],[1.0,\"#f0f921\"]],\"type\":\"surface\"}],\"table\":[{\"cells\":{\"fill\":{\"color\":\"#EBF0F8\"},\"line\":{\"color\":\"white\"}},\"header\":{\"fill\":{\"color\":\"#C8D4E3\"},\"line\":{\"color\":\"white\"}},\"type\":\"table\"}]},\"layout\":{\"annotationdefaults\":{\"arrowcolor\":\"#2a3f5f\",\"arrowhead\":0,\"arrowwidth\":1},\"autotypenumbers\":\"strict\",\"coloraxis\":{\"colorbar\":{\"outlinewidth\":0,\"ticks\":\"\"}},\"colorscale\":{\"diverging\":[[0,\"#8e0152\"],[0.1,\"#c51b7d\"],[0.2,\"#de77ae\"],[0.3,\"#f1b6da\"],[0.4,\"#fde0ef\"],[0.5,\"#f7f7f7\"],[0.6,\"#e6f5d0\"],[0.7,\"#b8e186\"],[0.8,\"#7fbc41\"],[0.9,\"#4d9221\"],[1,\"#276419\"]],\"sequential\":[[0.0,\"#0d0887\"],[0.1111111111111111,\"#46039f\"],[0.2222222222222222,\"#7201a8\"],[0.3333333333333333,\"#9c179e\"],[0.4444444444444444,\"#bd3786\"],[0.5555555555555556,\"#d8576b\"],[0.6666666666666666,\"#ed7953\"],[0.7777777777777778,\"#fb9f3a\"],[0.8888888888888888,\"#fdca26\"],[1.0,\"#f0f921\"]],\"sequentialminus\":[[0.0,\"#0d0887\"],[0.1111111111111111,\"#46039f\"],[0.2222222222222222,\"#7201a8\"],[0.3333333333333333,\"#9c179e\"],[0.4444444444444444,\"#bd3786\"],[0.5555555555555556,\"#d8576b\"],[0.6666666666666666,\"#ed7953\"],[0.7777777777777778,\"#fb9f3a\"],[0.8888888888888888,\"#fdca26\"],[1.0,\"#f0f921\"]]},\"colorway\":[\"#636efa\",\"#EF553B\",\"#00cc96\",\"#ab63fa\",\"#FFA15A\",\"#19d3f3\",\"#FF6692\",\"#B6E880\",\"#FF97FF\",\"#FECB52\"],\"font\":{\"color\":\"#2a3f5f\"},\"geo\":{\"bgcolor\":\"white\",\"lakecolor\":\"white\",\"landcolor\":\"white\",\"showlakes\":true,\"showland\":true,\"subunitcolor\":\"#C8D4E3\"},\"hoverlabel\":{\"align\":\"left\"},\"hovermode\":\"closest\",\"mapbox\":{\"style\":\"light\"},\"paper_bgcolor\":\"white\",\"plot_bgcolor\":\"white\",\"polar\":{\"angularaxis\":{\"gridcolor\":\"#EBF0F8\",\"linecolor\":\"#EBF0F8\",\"ticks\":\"\"},\"bgcolor\":\"white\",\"radialaxis\":{\"gridcolor\":\"#EBF0F8\",\"linecolor\":\"#EBF0F8\",\"ticks\":\"\"}},\"scene\":{\"xaxis\":{\"backgroundcolor\":\"white\",\"gridcolor\":\"#DFE8F3\",\"gridwidth\":2,\"linecolor\":\"#EBF0F8\",\"showbackground\":true,\"ticks\":\"\",\"zerolinecolor\":\"#EBF0F8\"},\"yaxis\":{\"backgroundcolor\":\"white\",\"gridcolor\":\"#DFE8F3\",\"gridwidth\":2,\"linecolor\":\"#EBF0F8\",\"showbackground\":true,\"ticks\":\"\",\"zerolinecolor\":\"#EBF0F8\"},\"zaxis\":{\"backgroundcolor\":\"white\",\"gridcolor\":\"#DFE8F3\",\"gridwidth\":2,\"linecolor\":\"#EBF0F8\",\"showbackground\":true,\"ticks\":\"\",\"zerolinecolor\":\"#EBF0F8\"}},\"shapedefaults\":{\"line\":{\"color\":\"#2a3f5f\"}},\"ternary\":{\"aaxis\":{\"gridcolor\":\"#DFE8F3\",\"linecolor\":\"#A2B1C6\",\"ticks\":\"\"},\"baxis\":{\"gridcolor\":\"#DFE8F3\",\"linecolor\":\"#A2B1C6\",\"ticks\":\"\"},\"bgcolor\":\"white\",\"caxis\":{\"gridcolor\":\"#DFE8F3\",\"linecolor\":\"#A2B1C6\",\"ticks\":\"\"}},\"title\":{\"x\":0.05},\"xaxis\":{\"automargin\":true,\"gridcolor\":\"#EBF0F8\",\"linecolor\":\"#EBF0F8\",\"ticks\":\"\",\"title\":{\"standoff\":15},\"zerolinecolor\":\"#EBF0F8\",\"zerolinewidth\":2},\"yaxis\":{\"automargin\":true,\"gridcolor\":\"#EBF0F8\",\"linecolor\":\"#EBF0F8\",\"ticks\":\"\",\"title\":{\"standoff\":15},\"zerolinecolor\":\"#EBF0F8\",\"zerolinewidth\":2}}},\"xaxis\":{\"anchor\":\"y\",\"domain\":[0.0,1.0],\"title\":{\"text\":\"Treatment\"}},\"yaxis\":{\"anchor\":\"x\",\"domain\":[0.0,1.0],\"title\":{\"text\":\"Expression\"}},\"legend\":{\"tracegroupgap\":0},\"margin\":{\"t\":60},\"boxmode\":\"group\",\"title\":{\"text\":\"Gene Expression Levels by Treatment\"},\"height\":600,\"width\":800},                        {\"responsive\": true}                    ).then(function(){\n",
       "                            \n",
       "var gd = document.getElementById('ea1bfbae-599f-49f3-8463-d7cb9691a3cb');\n",
       "var x = new MutationObserver(function (mutations, observer) {{\n",
       "        var display = window.getComputedStyle(gd).display;\n",
       "        if (!display || display === 'none') {{\n",
       "            console.log([gd, 'removed!']);\n",
       "            Plotly.purge(gd);\n",
       "            observer.disconnect();\n",
       "        }}\n",
       "}});\n",
       "\n",
       "// Listen for the removal of the full notebook cells\n",
       "var notebookContainer = gd.closest('#notebook-container');\n",
       "if (notebookContainer) {{\n",
       "    x.observe(notebookContainer, {childList: true});\n",
       "}}\n",
       "\n",
       "// Listen for the clearing of the current output cell\n",
       "var outputEl = gd.closest('.output');\n",
       "if (outputEl) {{\n",
       "    x.observe(outputEl, {childList: true});\n",
       "}}\n",
       "\n",
       "                        })                };            </script>        </div>"
      ]
     },
     "metadata": {},
     "output_type": "display_data"
    }
   ],
   "source": [
    "# Define output file path for the PNG plot\n",
    "file_path_basic_png = Path(output_dir) / \"box_plot_basic.png\"\n",
    "\n",
    "# Generate the basic box plot\n",
    "box_plot_basic = create_box_plot(\n",
    "    data=gene_exp_df,\n",
    "    x=\"Treatment\",\n",
    "    y=\"Expression\",\n",
    "    title=\"Gene Expression Levels by Treatment\",\n",
    "    file_path=file_path_basic_png,\n",
    ")\n",
    "\n",
    "box_plot_basic.show()"
   ]
  },
  {
   "cell_type": "markdown",
   "id": "f5e16637",
   "metadata": {},
   "source": [
    "## 2. Advanced Box Plot\n",
    "Here is an example of an advanced box plot with more descriptive parameters, including `color and box grouping`, `text annotations`, `hover tooltips`, and export to `HTML`."
   ]
  },
  {
   "cell_type": "code",
   "execution_count": 49,
   "id": "358e45fe",
   "metadata": {},
   "outputs": [
    {
     "name": "stdout",
     "output_type": "stream",
     "text": [
      "[VueCore] Plot saved to outputs/box_plot_advanced.html\n"
     ]
    },
    {
     "data": {
      "text/html": [
       "<div>            <script src=\"https://cdnjs.cloudflare.com/ajax/libs/mathjax/2.7.5/MathJax.js?config=TeX-AMS-MML_SVG\"></script><script type=\"text/javascript\">if (window.MathJax && window.MathJax.Hub && window.MathJax.Hub.Config) {window.MathJax.Hub.Config({SVG: {font: \"STIX-Web\"}});}</script>                    <div id=\"1141ed1f-66c9-41db-8c07-df82b67df120\" class=\"plotly-graph-div\" style=\"height:600px; width:800px;\"></div>            <script type=\"text/javascript\">                window.PLOTLYENV=window.PLOTLYENV || {};                                if (document.getElementById(\"1141ed1f-66c9-41db-8c07-df82b67df120\")) {                    Plotly.newPlot(                        \"1141ed1f-66c9-41db-8c07-df82b67df120\",                        [{\"alignmentgroup\":\"True\",\"customdata\":[[\"Gene_1444\"],[\"Gene_1251\"],[\"Gene_1136\"],[\"Gene_822\"],[\"Gene_1301\"],[\"Gene_460\"],[\"Gene_955\"],[\"Gene_750\"],[\"Gene_230\"],[\"Gene_1389\"],[\"Gene_1196\"],[\"Gene_158\"],[\"Gene_1397\"],[\"Gene_518\"],[\"Gene_1373\"],[\"Gene_1123\"],[\"Gene_993\"],[\"Gene_1347\"],[\"Gene_1347\"],[\"Gene_246\"],[\"Gene_972\"],[\"Gene_1116\"],[\"Gene_834\"],[\"Gene_51\"],[\"Gene_1149\"],[\"Gene_1366\"],[\"Gene_305\"],[\"Gene_682\"],[\"Gene_1078\"],[\"Gene_1003\"],[\"Gene_444\"],[\"Gene_993\"],[\"Gene_1077\"],[\"Gene_992\"],[\"Gene_867\"],[\"Gene_936\"],[\"Gene_636\"],[\"Gene_120\"],[\"Gene_741\"],[\"Gene_1013\"],[\"Gene_560\"],[\"Gene_1261\"],[\"Gene_704\"],[\"Gene_1471\"],[\"Gene_1459\"],[\"Gene_1093\"]],\"hovertemplate\":\"Patient Sample ID=Patient A\\u003cbr\\u003eTreatment=%{x}\\u003cbr\\u003eGene Expression=%{y}\\u003cbr\\u003eGene_ID=%{customdata[0]}\\u003cextra\\u003e\\u003c\\u002fextra\\u003e\",\"legendgroup\":\"Patient A\",\"marker\":{\"color\":\"#508AA8\"},\"name\":\"Patient A\",\"notched\":true,\"offsetgroup\":\"Patient A\",\"orientation\":\"v\",\"showlegend\":true,\"x\":[\"Control\",\"Treated\",\"Treated\",\"Control\",\"Control\",\"Treated\",\"Treated\",\"Treated\",\"Treated\",\"Control\",\"Treated\",\"Control\",\"Control\",\"Control\",\"Treated\",\"Treated\",\"Control\",\"Treated\",\"Control\",\"Treated\",\"Control\",\"Treated\",\"Control\",\"Treated\",\"Control\",\"Control\",\"Treated\",\"Control\",\"Treated\",\"Control\",\"Control\",\"Treated\",\"Treated\",\"Treated\",\"Control\",\"Treated\",\"Control\",\"Control\",\"Control\",\"Treated\",\"Treated\",\"Treated\",\"Control\",\"Treated\",\"Treated\",\"Treated\"],\"x0\":\" \",\"xaxis\":\"x\",\"y\":{\"dtype\":\"f8\",\"bdata\":\"4kvbRUHgTEAsHFCVW8tQQIUvDKMD0UBApD2bsMwYXUDbGgLmyMZhQKcPTrEe0nFAVnpGECQBYkAfgukLlwJrQGj0ZQC\\u002frlxAn1K4taYRWkAeLCbMf+ZeQFMIER1Q9GJA+FMls6fSZUDtrd6ztmFWQOPspk0O5lRA\\u002f5Yjht0nW0AuqSBcUi1LQG7xS4tMdE1AFw11adFIVUBPhKKvFKxlQLKzDUy9C2FAd6OwYAEtZ0A6Ve6Qt3BXQKwLFG13Z11AncQfGi6iXkCy564YbNw9QP3v1yJ1eWVAVdo91HO7XUC\\u002fPrUSO7ViQBQaFp0MhV9AKw4o91mpXkBQUxrCqU5fQCLV7IkUcGRAIjCxiXi\\u002fYUDIPzDktfNcQL2gCkObh1RA1hczbX9gVEDbF7jywyhhQK9hyoi7fzlANy+tAfI4WkBXEepVNHVYQJBgyXHuzGNAMBYLaq6VZEB5LLEUrslXQMIL0lq7q2JARovey+1oZ0A=\"},\"y0\":\" \",\"yaxis\":\"y\",\"type\":\"box\",\"boxpoints\":\"outliers\"},{\"alignmentgroup\":\"True\",\"customdata\":[[\"Gene_1497\"],[\"Gene_398\"],[\"Gene_816\"],[\"Gene_1219\"],[\"Gene_401\"],[\"Gene_640\"],[\"Gene_1399\"],[\"Gene_1046\"],[\"Gene_27\"],[\"Gene_960\"],[\"Gene_453\"],[\"Gene_816\"],[\"Gene_1061\"],[\"Gene_302\"],[\"Gene_181\"],[\"Gene_607\"],[\"Gene_700\"],[\"Gene_1140\"],[\"Gene_570\"],[\"Gene_626\"],[\"Gene_962\"],[\"Gene_155\"],[\"Gene_490\"],[\"Gene_1410\"],[\"Gene_785\"],[\"Gene_1417\"],[\"Gene_1063\"],[\"Gene_759\"],[\"Gene_921\"],[\"Gene_408\"],[\"Gene_525\"],[\"Gene_903\"],[\"Gene_512\"],[\"Gene_471\"],[\"Gene_727\"],[\"Gene_1214\"],[\"Gene_656\"],[\"Gene_370\"],[\"Gene_1370\"],[\"Gene_1151\"],[\"Gene_802\"],[\"Gene_1296\"],[\"Gene_581\"],[\"Gene_247\"],[\"Gene_697\"],[\"Gene_1309\"]],\"hovertemplate\":\"Patient Sample ID=Patient B\\u003cbr\\u003eTreatment=%{x}\\u003cbr\\u003eGene Expression=%{y}\\u003cbr\\u003eGene_ID=%{customdata[0]}\\u003cextra\\u003e\\u003c\\u002fextra\\u003e\",\"legendgroup\":\"Patient B\",\"marker\":{\"color\":\"#A8505E\"},\"name\":\"Patient B\",\"notched\":true,\"offsetgroup\":\"Patient B\",\"orientation\":\"v\",\"showlegend\":true,\"x\":[\"Control\",\"Control\",\"Treated\",\"Treated\",\"Control\",\"Treated\",\"Treated\",\"Treated\",\"Treated\",\"Control\",\"Control\",\"Control\",\"Treated\",\"Control\",\"Treated\",\"Treated\",\"Treated\",\"Treated\",\"Control\",\"Treated\",\"Control\",\"Treated\",\"Treated\",\"Treated\",\"Treated\",\"Control\",\"Control\",\"Control\",\"Treated\",\"Control\",\"Treated\",\"Treated\",\"Control\",\"Control\",\"Treated\",\"Control\",\"Control\",\"Treated\",\"Control\",\"Control\",\"Treated\",\"Treated\",\"Control\",\"Control\",\"Treated\",\"Treated\"],\"x0\":\" \",\"xaxis\":\"x\",\"y\":{\"dtype\":\"f8\",\"bdata\":\"Xh9eLdObY0D+MbRRishBQO9KDq4e0lxAemYcse7mZUAACx9X63RgQJ9Spj8bYGJA\\u002fp5PpbPIZEDaQQAeDElhQDlm1PdzYVlAVpyv543AU0AMLxByfAJhQJVD1Q3kQGJAPr+dSLovY0DjdPnvhaRcQEXG0ceJn1VAm7bGwSzBaUBFaMaptiVrQKU50x5uNVdA3jbWzbgAU0AgyZS5DYRuQHtKEVQSgEpAUkULfA5tYEC2k1WL5P1kQBiD5rINcGNAXBnsUqoyYUCcop7plqRfQBT6qLrXmWBAw8JFqPXPSEDZae\\u002fGuCpiQKBprqw44WNAwlOGCJzeaEDr1jJY6ARRQFaLETfxpkhARPh4MKYUYUDFRA3b8+JkQGtlYftIxVZAUWj3BMObUEDYaaD54AVkQJvRVnrA5lJAJvshuX7HWECZ+nZ10RBkQHcCta6k72ZA5nnXnRvPV0D9E3UV2KFUQI+EepIzcWVAzYZWibxOZkA=\"},\"y0\":\" \",\"yaxis\":\"y\",\"type\":\"box\",\"boxpoints\":\"outliers\"},{\"alignmentgroup\":\"True\",\"customdata\":[[\"Gene_628\"],[\"Gene_1446\"],[\"Gene_104\"],[\"Gene_510\"],[\"Gene_99\"],[\"Gene_153\"],[\"Gene_914\"],[\"Gene_878\"],[\"Gene_801\"],[\"Gene_563\"],[\"Gene_438\"],[\"Gene_1307\"],[\"Gene_879\"],[\"Gene_1020\"],[\"Gene_659\"],[\"Gene_1216\"],[\"Gene_1244\"],[\"Gene_477\"],[\"Gene_1070\"],[\"Gene_99\"],[\"Gene_981\"],[\"Gene_1185\"],[\"Gene_18\"],[\"Gene_566\"],[\"Gene_1200\"],[\"Gene_36\"],[\"Gene_20\"],[\"Gene_400\"],[\"Gene_854\"],[\"Gene_838\"],[\"Gene_613\"],[\"Gene_1220\"],[\"Gene_774\"],[\"Gene_877\"],[\"Gene_1374\"],[\"Gene_47\"],[\"Gene_823\"],[\"Gene_269\"],[\"Gene_657\"],[\"Gene_117\"],[\"Gene_791\"],[\"Gene_1082\"],[\"Gene_1120\"],[\"Gene_1142\"],[\"Gene_488\"],[\"Gene_897\"],[\"Gene_1213\"],[\"Gene_790\"],[\"Gene_861\"],[\"Gene_1100\"],[\"Gene_154\"],[\"Gene_997\"],[\"Gene_1110\"],[\"Gene_1071\"]],\"hovertemplate\":\"Patient Sample ID=Patient C\\u003cbr\\u003eTreatment=%{x}\\u003cbr\\u003eGene Expression=%{y}\\u003cbr\\u003eGene_ID=%{customdata[0]}\\u003cextra\\u003e\\u003c\\u002fextra\\u003e\",\"legendgroup\":\"Patient C\",\"marker\":{\"color\":\"#86BF84\"},\"name\":\"Patient C\",\"notched\":true,\"offsetgroup\":\"Patient C\",\"orientation\":\"v\",\"showlegend\":true,\"x\":[\"Control\",\"Control\",\"Treated\",\"Treated\",\"Control\",\"Control\",\"Control\",\"Control\",\"Control\",\"Treated\",\"Treated\",\"Control\",\"Control\",\"Treated\",\"Treated\",\"Control\",\"Treated\",\"Control\",\"Treated\",\"Control\",\"Control\",\"Treated\",\"Treated\",\"Control\",\"Control\",\"Treated\",\"Control\",\"Control\",\"Treated\",\"Treated\",\"Treated\",\"Control\",\"Control\",\"Treated\",\"Treated\",\"Control\",\"Treated\",\"Treated\",\"Treated\",\"Treated\",\"Control\",\"Treated\",\"Treated\",\"Control\",\"Control\",\"Treated\",\"Control\",\"Control\",\"Control\",\"Control\",\"Control\",\"Treated\",\"Control\",\"Control\"],\"x0\":\" \",\"xaxis\":\"x\",\"y\":{\"dtype\":\"f8\",\"bdata\":\"Lqd4l6DdXUCg1Uxm80VFQP1T1Os4C2NA8+3l7ahRbEBSaY8j4gpcQGo\\u002fDcfhlUxALxhX6dazV0CUZS4VOJlmQA7UfYI1dlZA6fvvIZy7ZUBN\\u002fAYAmChnQMzCCdBIcUdA6qNMeNr\\u002fVEDHp3bTnZxdQAgg4asLXmBAnkCYfux2UECakhQHRg5xQLwS0FQ95TtAoWJfaK4vaEAnPzdlgrlaQC0J9jg3\\u002fGJA0v3avS4yaUANi8nDnJ1YQOZjMpg6XVFAtMQ0QKy8Y0DcRYkucclnQLZkbH1MdFJAaFAv8qExBECg\\u002fNNbDgpkQL\\u002fMw\\u002fKSc2RAmd7b1HRcaEAFny5EFulXQEXt3vEYtlJA3PxOgrQvXUDsFtcUaPthQEpMxVckEV9AG2O6QxkQY0Dc9\\u002fJ3y4ZnQNdJZjYspGFAqb\\u002fc4jOXZkD47JYzxi5iQFwYMaVgcl9AufOyFaniYkD0P1\\u002fcdwNFQDE8Zqav0lRA4mO8BQhIYkChJESWqUdXQIoJzjuEQVpAmNP4vSM5S0CkulOfAawtQP\\u002fq1iWSCVFAuEuYA47IS0BeUZ0TRedTQIc7+7\\u002f\\u002fcE5A\"},\"y0\":\" \",\"yaxis\":\"y\",\"type\":\"box\",\"boxpoints\":\"outliers\"},{\"alignmentgroup\":\"True\",\"customdata\":[[\"Gene_587\"],[\"Gene_254\"],[\"Gene_338\"],[\"Gene_1187\"],[\"Gene_957\"],[\"Gene_161\"],[\"Gene_1416\"],[\"Gene_1159\"],[\"Gene_1057\"],[\"Gene_688\"],[\"Gene_470\"],[\"Gene_38\"],[\"Gene_226\"],[\"Gene_1301\"],[\"Gene_798\"],[\"Gene_284\"],[\"Gene_547\"],[\"Gene_1073\"],[\"Gene_17\"],[\"Gene_280\"],[\"Gene_497\"],[\"Gene_191\"],[\"Gene_253\"],[\"Gene_928\"],[\"Gene_1280\"],[\"Gene_128\"],[\"Gene_686\"],[\"Gene_1312\"],[\"Gene_854\"],[\"Gene_1128\"],[\"Gene_538\"],[\"Gene_828\"],[\"Gene_685\"],[\"Gene_321\"],[\"Gene_654\"],[\"Gene_1167\"],[\"Gene_1378\"],[\"Gene_575\"],[\"Gene_150\"],[\"Gene_314\"],[\"Gene_570\"],[\"Gene_264\"],[\"Gene_1004\"],[\"Gene_5\"],[\"Gene_1127\"],[\"Gene_884\"],[\"Gene_1130\"],[\"Gene_831\"],[\"Gene_1082\"],[\"Gene_1498\"],[\"Gene_1417\"],[\"Gene_634\"],[\"Gene_513\"],[\"Gene_1244\"]],\"hovertemplate\":\"Patient Sample ID=Patient D\\u003cbr\\u003eTreatment=%{x}\\u003cbr\\u003eGene Expression=%{y}\\u003cbr\\u003eGene_ID=%{customdata[0]}\\u003cextra\\u003e\\u003c\\u002fextra\\u003e\",\"legendgroup\":\"Patient D\",\"marker\":{\"color\":\"#A776AF\"},\"name\":\"Patient D\",\"notched\":true,\"offsetgroup\":\"Patient D\",\"orientation\":\"v\",\"showlegend\":true,\"x\":[\"Treated\",\"Control\",\"Control\",\"Treated\",\"Control\",\"Treated\",\"Treated\",\"Treated\",\"Control\",\"Control\",\"Treated\",\"Treated\",\"Control\",\"Control\",\"Treated\",\"Control\",\"Control\",\"Control\",\"Control\",\"Treated\",\"Control\",\"Control\",\"Treated\",\"Treated\",\"Treated\",\"Control\",\"Control\",\"Control\",\"Control\",\"Control\",\"Treated\",\"Treated\",\"Treated\",\"Treated\",\"Treated\",\"Control\",\"Treated\",\"Treated\",\"Treated\",\"Treated\",\"Control\",\"Control\",\"Control\",\"Treated\",\"Control\",\"Control\",\"Control\",\"Control\",\"Treated\",\"Treated\",\"Treated\",\"Treated\",\"Control\",\"Treated\"],\"x0\":\" \",\"xaxis\":\"x\",\"y\":{\"dtype\":\"f8\",\"bdata\":\"D1gWWPx2ZkCG7I\\u002fZRRlZQGZ0YoBZ+F5Anjd77R40XUBxmHaWya5ZQPaowk2IHmNA72baHtUJaEAvBnr2U7JlQP3NgMO+6lVAyWtYEowUXEB+N0JOKXdZQORz0SXMdmZA4PY\\u002fEtbDK0Bd2\\u002fcOF8FEQLQgE5aqH2RA8LVtYiu5ZUDkLw5y2zZfQAUUPY75fGBAjYUpDvv1TEBsPuOCVlhgQHzbaq\\u002fFQkFAyybjVaRMYkByFpmRd9RiQOo1dc3FQV5ADjS42i7VakDeP1ILBdFjQOaYeGS3rFtAUq8QGNaMW0DF4ABugP1aQD8qzr6Pml9AWquzvzVQcUCsYITvNShkQAdPXBbzYGRAGeV4mtR6aUBwfWvLYERlQEtO9xbZ3GBAwK9\\u002fKeGLakAH6248TbdgQHiZF84I92hAYYDrW4PQZUD9DIHREWw2QOgTW1cEJFNAhW12fci6X0Cl8lhLyVthQOQbRBLmWlZAdZG\\u002fAFtFZUADkpXkeuBRQN2iFUlWS2NAQTYdCtAhaUD68GaTMD5aQNAobYJApGRAosdBOvLGVUCACxHP3+xcQD11CegY82VA\"},\"y0\":\" \",\"yaxis\":\"y\",\"type\":\"box\",\"boxpoints\":\"outliers\"}],                        {\"template\":{\"data\":{\"barpolar\":[{\"marker\":{\"line\":{\"color\":\"white\",\"width\":0.5},\"pattern\":{\"fillmode\":\"overlay\",\"size\":10,\"solidity\":0.2}},\"type\":\"barpolar\"}],\"bar\":[{\"error_x\":{\"color\":\"#2a3f5f\"},\"error_y\":{\"color\":\"#2a3f5f\"},\"marker\":{\"line\":{\"color\":\"white\",\"width\":0.5},\"pattern\":{\"fillmode\":\"overlay\",\"size\":10,\"solidity\":0.2}},\"type\":\"bar\"}],\"carpet\":[{\"aaxis\":{\"endlinecolor\":\"#2a3f5f\",\"gridcolor\":\"#C8D4E3\",\"linecolor\":\"#C8D4E3\",\"minorgridcolor\":\"#C8D4E3\",\"startlinecolor\":\"#2a3f5f\"},\"baxis\":{\"endlinecolor\":\"#2a3f5f\",\"gridcolor\":\"#C8D4E3\",\"linecolor\":\"#C8D4E3\",\"minorgridcolor\":\"#C8D4E3\",\"startlinecolor\":\"#2a3f5f\"},\"type\":\"carpet\"}],\"choropleth\":[{\"colorbar\":{\"outlinewidth\":0,\"ticks\":\"\"},\"type\":\"choropleth\"}],\"contourcarpet\":[{\"colorbar\":{\"outlinewidth\":0,\"ticks\":\"\"},\"type\":\"contourcarpet\"}],\"contour\":[{\"colorbar\":{\"outlinewidth\":0,\"ticks\":\"\"},\"colorscale\":[[0.0,\"#0d0887\"],[0.1111111111111111,\"#46039f\"],[0.2222222222222222,\"#7201a8\"],[0.3333333333333333,\"#9c179e\"],[0.4444444444444444,\"#bd3786\"],[0.5555555555555556,\"#d8576b\"],[0.6666666666666666,\"#ed7953\"],[0.7777777777777778,\"#fb9f3a\"],[0.8888888888888888,\"#fdca26\"],[1.0,\"#f0f921\"]],\"type\":\"contour\"}],\"heatmap\":[{\"colorbar\":{\"outlinewidth\":0,\"ticks\":\"\"},\"colorscale\":[[0.0,\"#0d0887\"],[0.1111111111111111,\"#46039f\"],[0.2222222222222222,\"#7201a8\"],[0.3333333333333333,\"#9c179e\"],[0.4444444444444444,\"#bd3786\"],[0.5555555555555556,\"#d8576b\"],[0.6666666666666666,\"#ed7953\"],[0.7777777777777778,\"#fb9f3a\"],[0.8888888888888888,\"#fdca26\"],[1.0,\"#f0f921\"]],\"type\":\"heatmap\"}],\"histogram2dcontour\":[{\"colorbar\":{\"outlinewidth\":0,\"ticks\":\"\"},\"colorscale\":[[0.0,\"#0d0887\"],[0.1111111111111111,\"#46039f\"],[0.2222222222222222,\"#7201a8\"],[0.3333333333333333,\"#9c179e\"],[0.4444444444444444,\"#bd3786\"],[0.5555555555555556,\"#d8576b\"],[0.6666666666666666,\"#ed7953\"],[0.7777777777777778,\"#fb9f3a\"],[0.8888888888888888,\"#fdca26\"],[1.0,\"#f0f921\"]],\"type\":\"histogram2dcontour\"}],\"histogram2d\":[{\"colorbar\":{\"outlinewidth\":0,\"ticks\":\"\"},\"colorscale\":[[0.0,\"#0d0887\"],[0.1111111111111111,\"#46039f\"],[0.2222222222222222,\"#7201a8\"],[0.3333333333333333,\"#9c179e\"],[0.4444444444444444,\"#bd3786\"],[0.5555555555555556,\"#d8576b\"],[0.6666666666666666,\"#ed7953\"],[0.7777777777777778,\"#fb9f3a\"],[0.8888888888888888,\"#fdca26\"],[1.0,\"#f0f921\"]],\"type\":\"histogram2d\"}],\"histogram\":[{\"marker\":{\"pattern\":{\"fillmode\":\"overlay\",\"size\":10,\"solidity\":0.2}},\"type\":\"histogram\"}],\"mesh3d\":[{\"colorbar\":{\"outlinewidth\":0,\"ticks\":\"\"},\"type\":\"mesh3d\"}],\"parcoords\":[{\"line\":{\"colorbar\":{\"outlinewidth\":0,\"ticks\":\"\"}},\"type\":\"parcoords\"}],\"pie\":[{\"automargin\":true,\"type\":\"pie\"}],\"scatter3d\":[{\"line\":{\"colorbar\":{\"outlinewidth\":0,\"ticks\":\"\"}},\"marker\":{\"colorbar\":{\"outlinewidth\":0,\"ticks\":\"\"}},\"type\":\"scatter3d\"}],\"scattercarpet\":[{\"marker\":{\"colorbar\":{\"outlinewidth\":0,\"ticks\":\"\"}},\"type\":\"scattercarpet\"}],\"scattergeo\":[{\"marker\":{\"colorbar\":{\"outlinewidth\":0,\"ticks\":\"\"}},\"type\":\"scattergeo\"}],\"scattergl\":[{\"marker\":{\"colorbar\":{\"outlinewidth\":0,\"ticks\":\"\"}},\"type\":\"scattergl\"}],\"scattermapbox\":[{\"marker\":{\"colorbar\":{\"outlinewidth\":0,\"ticks\":\"\"}},\"type\":\"scattermapbox\"}],\"scattermap\":[{\"marker\":{\"colorbar\":{\"outlinewidth\":0,\"ticks\":\"\"}},\"type\":\"scattermap\"}],\"scatterpolargl\":[{\"marker\":{\"colorbar\":{\"outlinewidth\":0,\"ticks\":\"\"}},\"type\":\"scatterpolargl\"}],\"scatterpolar\":[{\"marker\":{\"colorbar\":{\"outlinewidth\":0,\"ticks\":\"\"}},\"type\":\"scatterpolar\"}],\"scatter\":[{\"fillpattern\":{\"fillmode\":\"overlay\",\"size\":10,\"solidity\":0.2},\"type\":\"scatter\"}],\"scatterternary\":[{\"marker\":{\"colorbar\":{\"outlinewidth\":0,\"ticks\":\"\"}},\"type\":\"scatterternary\"}],\"surface\":[{\"colorbar\":{\"outlinewidth\":0,\"ticks\":\"\"},\"colorscale\":[[0.0,\"#0d0887\"],[0.1111111111111111,\"#46039f\"],[0.2222222222222222,\"#7201a8\"],[0.3333333333333333,\"#9c179e\"],[0.4444444444444444,\"#bd3786\"],[0.5555555555555556,\"#d8576b\"],[0.6666666666666666,\"#ed7953\"],[0.7777777777777778,\"#fb9f3a\"],[0.8888888888888888,\"#fdca26\"],[1.0,\"#f0f921\"]],\"type\":\"surface\"}],\"table\":[{\"cells\":{\"fill\":{\"color\":\"#EBF0F8\"},\"line\":{\"color\":\"white\"}},\"header\":{\"fill\":{\"color\":\"#C8D4E3\"},\"line\":{\"color\":\"white\"}},\"type\":\"table\"}]},\"layout\":{\"annotationdefaults\":{\"arrowcolor\":\"#2a3f5f\",\"arrowhead\":0,\"arrowwidth\":1},\"autotypenumbers\":\"strict\",\"coloraxis\":{\"colorbar\":{\"outlinewidth\":0,\"ticks\":\"\"}},\"colorscale\":{\"diverging\":[[0,\"#8e0152\"],[0.1,\"#c51b7d\"],[0.2,\"#de77ae\"],[0.3,\"#f1b6da\"],[0.4,\"#fde0ef\"],[0.5,\"#f7f7f7\"],[0.6,\"#e6f5d0\"],[0.7,\"#b8e186\"],[0.8,\"#7fbc41\"],[0.9,\"#4d9221\"],[1,\"#276419\"]],\"sequential\":[[0.0,\"#0d0887\"],[0.1111111111111111,\"#46039f\"],[0.2222222222222222,\"#7201a8\"],[0.3333333333333333,\"#9c179e\"],[0.4444444444444444,\"#bd3786\"],[0.5555555555555556,\"#d8576b\"],[0.6666666666666666,\"#ed7953\"],[0.7777777777777778,\"#fb9f3a\"],[0.8888888888888888,\"#fdca26\"],[1.0,\"#f0f921\"]],\"sequentialminus\":[[0.0,\"#0d0887\"],[0.1111111111111111,\"#46039f\"],[0.2222222222222222,\"#7201a8\"],[0.3333333333333333,\"#9c179e\"],[0.4444444444444444,\"#bd3786\"],[0.5555555555555556,\"#d8576b\"],[0.6666666666666666,\"#ed7953\"],[0.7777777777777778,\"#fb9f3a\"],[0.8888888888888888,\"#fdca26\"],[1.0,\"#f0f921\"]]},\"colorway\":[\"#636efa\",\"#EF553B\",\"#00cc96\",\"#ab63fa\",\"#FFA15A\",\"#19d3f3\",\"#FF6692\",\"#B6E880\",\"#FF97FF\",\"#FECB52\"],\"font\":{\"color\":\"#2a3f5f\"},\"geo\":{\"bgcolor\":\"white\",\"lakecolor\":\"white\",\"landcolor\":\"white\",\"showlakes\":true,\"showland\":true,\"subunitcolor\":\"#C8D4E3\"},\"hoverlabel\":{\"align\":\"left\"},\"hovermode\":\"closest\",\"mapbox\":{\"style\":\"light\"},\"paper_bgcolor\":\"white\",\"plot_bgcolor\":\"white\",\"polar\":{\"angularaxis\":{\"gridcolor\":\"#EBF0F8\",\"linecolor\":\"#EBF0F8\",\"ticks\":\"\"},\"bgcolor\":\"white\",\"radialaxis\":{\"gridcolor\":\"#EBF0F8\",\"linecolor\":\"#EBF0F8\",\"ticks\":\"\"}},\"scene\":{\"xaxis\":{\"backgroundcolor\":\"white\",\"gridcolor\":\"#DFE8F3\",\"gridwidth\":2,\"linecolor\":\"#EBF0F8\",\"showbackground\":true,\"ticks\":\"\",\"zerolinecolor\":\"#EBF0F8\"},\"yaxis\":{\"backgroundcolor\":\"white\",\"gridcolor\":\"#DFE8F3\",\"gridwidth\":2,\"linecolor\":\"#EBF0F8\",\"showbackground\":true,\"ticks\":\"\",\"zerolinecolor\":\"#EBF0F8\"},\"zaxis\":{\"backgroundcolor\":\"white\",\"gridcolor\":\"#DFE8F3\",\"gridwidth\":2,\"linecolor\":\"#EBF0F8\",\"showbackground\":true,\"ticks\":\"\",\"zerolinecolor\":\"#EBF0F8\"}},\"shapedefaults\":{\"line\":{\"color\":\"#2a3f5f\"}},\"ternary\":{\"aaxis\":{\"gridcolor\":\"#DFE8F3\",\"linecolor\":\"#A2B1C6\",\"ticks\":\"\"},\"baxis\":{\"gridcolor\":\"#DFE8F3\",\"linecolor\":\"#A2B1C6\",\"ticks\":\"\"},\"bgcolor\":\"white\",\"caxis\":{\"gridcolor\":\"#DFE8F3\",\"linecolor\":\"#A2B1C6\",\"ticks\":\"\"}},\"title\":{\"x\":0.05},\"xaxis\":{\"automargin\":true,\"gridcolor\":\"#EBF0F8\",\"linecolor\":\"#EBF0F8\",\"ticks\":\"\",\"title\":{\"standoff\":15},\"zerolinecolor\":\"#EBF0F8\",\"zerolinewidth\":2},\"yaxis\":{\"automargin\":true,\"gridcolor\":\"#EBF0F8\",\"linecolor\":\"#EBF0F8\",\"ticks\":\"\",\"title\":{\"standoff\":15},\"zerolinecolor\":\"#EBF0F8\",\"zerolinewidth\":2}}},\"xaxis\":{\"anchor\":\"y\",\"domain\":[0.0,1.0],\"title\":{\"text\":\"Treatment\"}},\"yaxis\":{\"anchor\":\"x\",\"domain\":[0.0,1.0],\"title\":{\"text\":\"Gene Expression\"}},\"legend\":{\"title\":{\"text\":\"Patient Sample ID\"},\"tracegroupgap\":0},\"margin\":{\"t\":60},\"boxmode\":\"group\",\"title\":{\"subtitle\":{\"text\":\"Distribution of gene expression across different treatments and patient samples\"},\"text\":\"Gene Expression Levels with Control and Treatment Condition\"},\"height\":600,\"width\":800},                        {\"responsive\": true}                    ).then(function(){\n",
       "                            \n",
       "var gd = document.getElementById('1141ed1f-66c9-41db-8c07-df82b67df120');\n",
       "var x = new MutationObserver(function (mutations, observer) {{\n",
       "        var display = window.getComputedStyle(gd).display;\n",
       "        if (!display || display === 'none') {{\n",
       "            console.log([gd, 'removed!']);\n",
       "            Plotly.purge(gd);\n",
       "            observer.disconnect();\n",
       "        }}\n",
       "}});\n",
       "\n",
       "// Listen for the removal of the full notebook cells\n",
       "var notebookContainer = gd.closest('#notebook-container');\n",
       "if (notebookContainer) {{\n",
       "    x.observe(notebookContainer, {childList: true});\n",
       "}}\n",
       "\n",
       "// Listen for the clearing of the current output cell\n",
       "var outputEl = gd.closest('.output');\n",
       "if (outputEl) {{\n",
       "    x.observe(outputEl, {childList: true});\n",
       "}}\n",
       "\n",
       "                        })                };            </script>        </div>"
      ]
     },
     "metadata": {},
     "output_type": "display_data"
    }
   ],
   "source": [
    "# Define the output file path for the advanced HTML plot\n",
    "file_path_adv_html = Path(output_dir) / \"box_plot_advanced.html\"\n",
    "\n",
    "# Generate the advanced box plot\n",
    "box_plot_adv = create_box_plot(\n",
    "    data=gene_exp_df,\n",
    "    x=\"Treatment\",\n",
    "    y=\"Expression\",\n",
    "    color=\"Sample_ID\",\n",
    "    boxmode=\"group\",\n",
    "    notched=True,\n",
    "    title=\"Gene Expression Levels with Control and Treatment Condition\",\n",
    "    subtitle=\"Distribution of gene expression across different treatments and patient samples\",\n",
    "    labels={\n",
    "        \"Treatment\": \"Treatment\",\n",
    "        \"Expression\": \"Gene Expression\",\n",
    "        \"Sample_ID\": \"Patient Sample ID\",\n",
    "    },\n",
    "    color_discrete_map={\n",
    "        \"Patient A\": \"#508AA8\",\n",
    "        \"Patient B\": \"#A8505E\",\n",
    "        \"Patient C\": \"#86BF84\",\n",
    "        \"Patient D\": \"#A776AF\",\n",
    "    },\n",
    "    category_orders={\"Sample_ID\": [\"Patient A\", \"Patient B\", \"Patient C\", \"Patient D\"]},\n",
    "    hover_data=[\"Gene_ID\"],\n",
    "    file_path=file_path_adv_html,\n",
    ")\n",
    "\n",
    "box_plot_adv.show()"
   ]
  }
 ],
 "metadata": {
  "kernelspec": {
   "display_name": "vuecore-dev",
   "language": "python",
   "name": "python3"
  },
  "language_info": {
   "codemirror_mode": {
    "name": "ipython",
    "version": 3
   },
   "file_extension": ".py",
   "mimetype": "text/x-python",
   "name": "python",
   "nbconvert_exporter": "python",
   "pygments_lexer": "ipython3",
   "version": "3.12.11"
  }
 },
 "nbformat": 4,
 "nbformat_minor": 5
}
