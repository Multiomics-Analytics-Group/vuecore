{
 "cells": [
  {
   "cell_type": "markdown",
   "id": "640ba1d5",
   "metadata": {},
   "source": [
    "# Box Plot\n",
    "\n",
    "![VueCore logo][vuecore_logo]\n",
    "\n",
    "[![Open In Colab][colab_badge]][colab_link]\n",
    "\n",
    "[VueCore][vuecore_repo] is a Python package for creating interactive and static visualizations of multi-omics data.\n",
    "It is part of a broader ecosystem of tools—including [ACore][acore_repo] for data processing and [VueGen][vuegen_repo] for automated reporting—that together enable end-to-end workflows for omics analysis.\n",
    "\n",
    "This notebook demonstrates how to generate box plots using plotting functions from VueCore. We showcase basic and advanced plot configurations, highlighting key customization options such as grouping, color mapping, text annotations, and export to multiple file formats.\n",
    "\n",
    "## Notebook structure\n",
    "\n",
    "First, we will set up the work environment by installing the necessary packages and importing the required libraries. Next, we will create basic and advanced box plots.\n",
    "\n",
    "0. [Work environment setup](#0-work-environment-setup)\n",
    "1. [Basic box plot](#1-basic-box-plot)\n",
    "2. [Advanced box plot](#2-advanced-box-plot)\n",
    "\n",
    "## Credits and Contributors\n",
    "- This notebook was created by Sebastián Ayala-Ruano under the supervision of Henry Webel and Alberto Santos, head of the [Multiomics Network Analytics Group (MoNA)][Mona] at the [Novo Nordisk Foundation Center for Biosustainability (DTU Biosustain)][Biosustain].\n",
    "- You can find more details about the project in this [GitHub repository][vuecore_repo].\n",
    "\n",
    "[colab_badge]: https://colab.research.google.com/assets/colab-badge.svg\n",
    "[colab_link]: https://colab.research.google.com/github/Multiomics-Analytics-Group/vuecore/blob/main/docs/api_examples/box_plot.ipynb\n",
    "[vuecore_logo]: https://raw.githubusercontent.com/Multiomics-Analytics-Group/vuecore/main/docs/images/logo/vuecore_logo.svg\n",
    "[Mona]: https://multiomics-analytics-group.github.io/\n",
    "[Biosustain]: https://www.biosustain.dtu.dk/\n",
    "[vuecore_repo]: https://github.com/Multiomics-Analytics-Group/vuecore\n",
    "[vuegen_repo]: https://github.com/Multiomics-Analytics-Group/vuegen\n",
    "[acore_repo]: https://github.com/Multiomics-Analytics-Group/acore"
   ]
  },
  {
   "cell_type": "markdown",
   "id": "3b504dfb",
   "metadata": {},
   "source": [
    "## 0. Work environment setup"
   ]
  },
  {
   "cell_type": "markdown",
   "id": "f0c056a7",
   "metadata": {},
   "source": [
    "### 0.1. Installing libraries and creating global variables for platform and working directory\n",
    "\n",
    "To run this notebook locally, you should create a virtual environment with the required libraries. If you are running this notebook on Google Colab, everything should be set."
   ]
  },
  {
   "cell_type": "code",
   "execution_count": null,
   "id": "36246ed6",
   "metadata": {
    "tags": [
     "hide-output"
    ]
   },
   "outputs": [],
   "source": [
    "# VueCore library\n",
    "%pip install vuecore"
   ]
  },
  {
   "cell_type": "code",
   "execution_count": null,
   "id": "963a9529",
   "metadata": {
    "tags": [
     "hide-cell"
    ]
   },
   "outputs": [],
   "source": [
    "import os\n",
    "\n",
    "IN_COLAB = \"COLAB_GPU\" in os.environ\n",
    "\n",
    "# Create a directory for outputs\n",
    "output_dir = \"./outputs\"\n",
    "os.makedirs(output_dir, exist_ok=True)"
   ]
  },
  {
   "cell_type": "markdown",
   "id": "31638f9a",
   "metadata": {
    "lines_to_next_cell": 0
   },
   "source": [
    "### 0.2. Importing libraries"
   ]
  },
  {
   "cell_type": "code",
   "execution_count": null,
   "id": "06dbf6a2",
   "metadata": {},
   "outputs": [],
   "source": [
    "from pathlib import Path\n",
    "\n",
    "import numpy as np\n",
    "import pandas as pd\n",
    "\n",
    "from vuecore.plots.basic.box import create_box_plot"
   ]
  },
  {
   "cell_type": "markdown",
   "id": "5cc60050",
   "metadata": {},
   "source": [
    "### 0.3. Create sample data\n",
    "We create a synthetic dataset simulating gene expression levels across different patient samples and treatment conditions, with each data point representing a unique gene's expression level under a specific treatment for a particular patient."
   ]
  },
  {
   "cell_type": "code",
   "execution_count": null,
   "id": "ac2db647",
   "metadata": {
    "tags": [
     "hide-input"
    ]
   },
   "outputs": [],
   "source": [
    "# Set a random seed for reproducibility of the synthetic data\n",
    "np.random.seed(42)\n",
    "\n",
    "# Parameters\n",
    "num_samples = 200\n",
    "sample_groups = [\"Patient A\", \"Patient B\", \"Patient C\", \"Patient D\"]\n",
    "treatments = [\"Control\", \"Treated\"]\n",
    "\n",
    "# Sample metadata\n",
    "sample_ids = np.random.choice(sample_groups, size=num_samples)\n",
    "treatment_assignments = np.random.choice(treatments, size=num_samples)\n",
    "gene_ids = [f\"Gene_{g}\" for g in np.random.randint(1, 1500, size=num_samples)]\n",
    "\n",
    "# Base expression values\n",
    "base_expr = np.random.normal(loc=100, scale=35, size=num_samples)\n",
    "\n",
    "# Treatment effect simulation\n",
    "treatment_effect = np.where(\n",
    "    treatment_assignments == \"Treated\",\n",
    "    np.random.normal(loc=50, scale=30, size=num_samples),\n",
    "    0,\n",
    ")\n",
    "\n",
    "# Small random per-gene offset for extra variability\n",
    "gene_offset = np.random.normal(loc=0, scale=20, size=num_samples)\n",
    "\n",
    "# Final expression\n",
    "expr = base_expr + treatment_effect + gene_offset\n",
    "\n",
    "# Construct DataFrame\n",
    "gene_exp_df = pd.DataFrame(\n",
    "    {\n",
    "        \"Sample_ID\": sample_ids,\n",
    "        \"Treatment\": treatment_assignments,\n",
    "        \"Gene_ID\": gene_ids,\n",
    "        \"Expression\": expr,\n",
    "    }\n",
    ")\n",
    "gene_exp_df"
   ]
  },
  {
   "cell_type": "markdown",
   "id": "ade445fe",
   "metadata": {},
   "source": [
    "## 1. Basic Box Plot\n",
    "A basic box plot can be created by simply providing the `x` and `y` columns from the DataFrame,\n",
    "along with style options like `title` \n",
    "using [`create_box_plot`](vuecore.plots.basic.box.create_box_plot)."
   ]
  },
  {
   "cell_type": "code",
   "execution_count": null,
   "id": "d0d34455",
   "metadata": {},
   "outputs": [],
   "source": [
    "# Define output file path for the PNG plot\n",
    "file_path_basic_png = Path(output_dir) / \"box_plot_basic.png\"\n",
    "\n",
    "# Generate the basic box plot\n",
    "box_plot_basic = create_box_plot(\n",
    "    data=gene_exp_df,\n",
    "    x=\"Treatment\",\n",
    "    y=\"Expression\",\n",
    "    title=\"Gene Expression Levels by Treatment\",\n",
    "    file_path=file_path_basic_png,\n",
    ")\n",
    "\n",
    "box_plot_basic.show()"
   ]
  },
  {
   "cell_type": "markdown",
   "id": "f5e16637",
   "metadata": {},
   "source": [
    "## 2. Advanced Box Plot\n",
    "Here is an example of an advanced box plot with more descriptive parameters, including `color and box grouping`, `text annotations`, `hover tooltips`, and export to `HTML`."
   ]
  },
  {
   "cell_type": "code",
   "execution_count": null,
   "id": "358e45fe",
   "metadata": {},
   "outputs": [],
   "source": [
    "# Define the output file path for the advanced HTML plot\n",
    "file_path_adv_html = Path(output_dir) / \"box_plot_advanced.html\"\n",
    "\n",
    "# Generate the advanced box plot\n",
    "box_plot_adv = create_box_plot(\n",
    "    data=gene_exp_df,\n",
    "    x=\"Treatment\",\n",
    "    y=\"Expression\",\n",
    "    color=\"Sample_ID\",\n",
    "    boxmode=\"group\",\n",
    "    notched=True,\n",
    "    title=\"Gene Expression Levels with Control and Treatment Condition\",\n",
    "    subtitle=\"Distribution of gene expression across different treatments and patient samples\",\n",
    "    labels={\n",
    "        \"Treatment\": \"Treatment\",\n",
    "        \"Expression\": \"Gene Expression\",\n",
    "        \"Sample_ID\": \"Patient Sample ID\",\n",
    "    },\n",
    "    color_discrete_map={\n",
    "        \"Patient A\": \"#508AA8\",\n",
    "        \"Patient B\": \"#A8505E\",\n",
    "        \"Patient C\": \"#86BF84\",\n",
    "        \"Patient D\": \"#A776AF\",\n",
    "    },\n",
    "    category_orders={\"Sample_ID\": [\"Patient A\", \"Patient B\", \"Patient C\", \"Patient D\"]},\n",
    "    hover_data=[\"Gene_ID\"],\n",
    "    file_path=file_path_adv_html,\n",
    ")\n",
    "\n",
    "box_plot_adv.show()"
   ]
  }
 ],
 "metadata": {
  "kernelspec": {
   "display_name": "vuecore-dev",
   "language": "python",
   "name": "python3"
  },
  "language_info": {
   "codemirror_mode": {
    "name": "ipython",
    "version": 3
   },
   "file_extension": ".py",
   "mimetype": "text/x-python",
   "name": "python",
   "nbconvert_exporter": "python",
   "pygments_lexer": "ipython3",
   "version": "3.12.11"
  }
 },
 "nbformat": 4,
 "nbformat_minor": 5
}
